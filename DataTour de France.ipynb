{
 "cells": [
  {
   "cell_type": "markdown",
   "metadata": {},
   "source": [
    "# DataTour de France"
   ]
  },
  {
   "cell_type": "markdown",
   "metadata": {},
   "source": [
    "In this notebook, we'll look at the many steps it takes to go from gathering unstructured data, to cleaning and analyzing it. We'll start by collecting data by means of web scraping. We'll clean up a little bit our dataset manually. Finally, we'll explore some aspects of the way the Tour de France changed during one century."
   ]
  },
  {
   "cell_type": "markdown",
   "metadata": {},
   "source": [
    "## Collecting global data "
   ]
  },
  {
   "cell_type": "markdown",
   "metadata": {},
   "source": [
    "As a first step, we will collect general data about the Tour de France. We'll store this data in a pandas DataFrame so we can use well formated data later on for our analysis.\n",
    "\n",
    "In that purpose, we will scrape data from several websites and aggregate it into a single DataFrame. We will use **BeautifulSoup** which is a Python module used to parse HTML and XML files."
   ]
  },
  {
   "cell_type": "code",
   "execution_count": 8,
   "metadata": {},
   "outputs": [],
   "source": [
    "from bs4 import BeautifulSoup\n",
    "import re\n",
    "import math\n",
    "import requests\n",
    "import numpy as np\n",
    "import pandas as pd"
   ]
  },
  {
   "cell_type": "code",
   "execution_count": 2,
   "metadata": {},
   "outputs": [],
   "source": [
    "r = requests.get(\"http://bikeraceinfo.com/tdf/tdfindex.html\")\n",
    "soup = BeautifulSoup(r.text, \"lxml\")\n",
    "table = soup.find(\"table\")"
   ]
  },
  {
   "cell_type": "markdown",
   "metadata": {},
   "source": [
    "Let's build a dictionary we will use later to feed our DataFrame."
   ]
  },
  {
   "cell_type": "code",
   "execution_count": 3,
   "metadata": {},
   "outputs": [],
   "source": [
    "metadata = {\"year\": [], \"winner\": [], \"second\": [], \"third\": [], \"winner_origin\": [], \"winning_team\": []}"
   ]
  },
  {
   "cell_type": "markdown",
   "metadata": {},
   "source": [
    "### Retrieve each year the Tour de France took place"
   ]
  },
  {
   "cell_type": "markdown",
   "metadata": {},
   "source": [
    "[This web page](http://bikeraceinfo.com/tdf/tdfindex.html) stores every general information about each year the Tour de France took place. We'll scrape it step by step to retrive all the data it stores."
   ]
  },
  {
   "cell_type": "code",
   "execution_count": 4,
   "metadata": {},
   "outputs": [
    {
     "name": "stdout",
     "output_type": "stream",
     "text": [
      "1915-1918 World War I, no Tours held\n",
      "1940-1946 World War II, no Tours held \n",
      "2020V\n"
     ]
    }
   ],
   "source": [
    "regex = re.compile(r\"[0-9]{4}$\")\n",
    "\n",
    "for sib in table.tr.next_siblings:\n",
    "    try:\n",
    "        y = sib.td.text\n",
    "        if re.match(regex, sib.td.text) != None:\n",
    "            metadata[\"year\"].append(y)\n",
    "        else:\n",
    "            # We want to get rid off the years that the Tour de France did not take place\n",
    "            print(sib.td.text)\n",
    "    except AttributeError:\n",
    "        pass"
   ]
  },
  {
   "cell_type": "markdown",
   "metadata": {},
   "source": [
    "### Retrieve every winner of the Tour de France"
   ]
  },
  {
   "cell_type": "markdown",
   "metadata": {},
   "source": [
    "Next, we want to move to the next column and retrieve each winner. The cell stores additional data that we need to clean a little bit further if we want to use it for some further analysis."
   ]
  },
  {
   "cell_type": "code",
   "execution_count": 5,
   "metadata": {},
   "outputs": [],
   "source": [
    "def remove_backspace(text):\n",
    "    regex = re.compile(r\"[\\n\\t]\")\n",
    "    text = regex.sub(\"\", text)\n",
    "    return text"
   ]
  },
  {
   "cell_type": "code",
   "execution_count": 6,
   "metadata": {},
   "outputs": [],
   "source": [
    "for sib in table.tr.next_siblings:\n",
    "    try:\n",
    "        t = sib.td.next_sibling.next_sibling.get_text()\n",
    "        metadata[\"winner\"].append(remove_backspace(t))\n",
    "    except AttributeError:\n",
    "        pass"
   ]
  },
  {
   "cell_type": "code",
   "execution_count": 7,
   "metadata": {},
   "outputs": [],
   "source": [
    "# Let's remove a non-necessary line\n",
    "del metadata[\"winner\"][-2]"
   ]
  },
  {
   "cell_type": "markdown",
   "metadata": {},
   "source": [
    "### Retrieve each participant that achieved the second place"
   ]
  },
  {
   "cell_type": "code",
   "execution_count": 8,
   "metadata": {},
   "outputs": [],
   "source": [
    "for sib in table.tr.next_siblings:\n",
    "    try:\n",
    "        t = sib.find_all(\"td\")\n",
    "        # Because the table does not have the same number of cells when the Tour did not take place\n",
    "        try:\n",
    "            sec = t[3].get_text(strip=True)\n",
    "            metadata[\"second\"].append(sec)\n",
    "        except IndexError:\n",
    "            pass\n",
    "    except AttributeError:\n",
    "        pass"
   ]
  },
  {
   "cell_type": "code",
   "execution_count": 9,
   "metadata": {},
   "outputs": [],
   "source": [
    "# Let's remove a non-necessary line\n",
    "del metadata[\"second\"][-2]"
   ]
  },
  {
   "cell_type": "markdown",
   "metadata": {},
   "source": [
    "### Retrieve each participant that achieved the third place"
   ]
  },
  {
   "cell_type": "code",
   "execution_count": 10,
   "metadata": {},
   "outputs": [],
   "source": [
    "for sib in table.tr.next_siblings:\n",
    "    try:\n",
    "        t = sib.find_all(\"td\")\n",
    "        # Because the table does not have the same number of cells when the Tour did not take place\n",
    "        try:\n",
    "            thd = t[4].get_text(strip=True)\n",
    "            metadata[\"third\"].append(thd)\n",
    "        except IndexError:\n",
    "            pass\n",
    "    except AttributeError:\n",
    "        pass"
   ]
  },
  {
   "cell_type": "code",
   "execution_count": 11,
   "metadata": {},
   "outputs": [],
   "source": [
    "# Let's remove a non-necessary line\n",
    "del metadata[\"third\"][-2]"
   ]
  },
  {
   "cell_type": "markdown",
   "metadata": {},
   "source": [
    "### Retrieve each winning team (It is the team to which the yellow jersey belongs to)"
   ]
  },
  {
   "cell_type": "code",
   "execution_count": 12,
   "metadata": {},
   "outputs": [
    {
     "name": "stdout",
     "output_type": "stream",
     "text": [
      "90 USAUS Postal\n",
      "91 USADiscovery\n",
      "92 SpainCaissed'Epargne\n",
      "93 SpainDiscovery\n",
      "94 SpainCSC-Saxo Bank\n",
      "95 SpainAstana\n",
      "96 LuxembourgSaxo Bank\n",
      "97 AustraliaBMC\n",
      "98 Great BritainSky\n",
      "99 Great BritainSky\n",
      "100 ItalyAstana\n",
      "101 Great BritainSky\n",
      "102 Great BritainSky\n",
      "103 Great BritainSky\n",
      "104 Great BritainSky\n",
      "105 ColombiaINEOS\n",
      "106 \n",
      "107 SloveniaUAE-Team Emirates\n"
     ]
    }
   ],
   "source": [
    "for i, sib in enumerate(table.tr.next_siblings):\n",
    "    try:\n",
    "        t = sib.find_all(\"td\")\n",
    "        # Because the table does not have the same number of cells when the Tour did not take place\n",
    "        try:\n",
    "            team = t[2].get_text(strip=True)\n",
    "            if \",\" in team:\n",
    "                te = team.split(\",\")\n",
    "                metadata[\"winner_origin\"].append(te[0])\n",
    "                metadata[\"winning_team\"].append(te[1])\n",
    "            else:\n",
    "                print(math.ceil(i/2-3), team)\n",
    "        except IndexError:\n",
    "            pass\n",
    "    except AttributeError:\n",
    "        pass"
   ]
  },
  {
   "cell_type": "markdown",
   "metadata": {},
   "source": [
    "Because the rest of the dataset is not really well formated, let's add the final data manually."
   ]
  },
  {
   "cell_type": "code",
   "execution_count": 13,
   "metadata": {},
   "outputs": [],
   "source": [
    "metadata[\"winner_origin\"].append(\"USA\")\n",
    "metadata[\"winning_team\"].append(\"US Postal\")"
   ]
  },
  {
   "cell_type": "code",
   "execution_count": 14,
   "metadata": {},
   "outputs": [],
   "source": [
    "metadata[\"winner_origin\"].append(\"USA\")\n",
    "metadata[\"winning_team\"].append(\"Discovery\")"
   ]
  },
  {
   "cell_type": "code",
   "execution_count": 15,
   "metadata": {},
   "outputs": [],
   "source": [
    "metadata[\"winner_origin\"].append(\"Spain\")\n",
    "metadata[\"winning_team\"].append(\"Caisse d'Epargne\")"
   ]
  },
  {
   "cell_type": "code",
   "execution_count": 16,
   "metadata": {},
   "outputs": [],
   "source": [
    "metadata[\"winner_origin\"].append(\"Spain\")\n",
    "metadata[\"winning_team\"].append(\"Discovery\")"
   ]
  },
  {
   "cell_type": "code",
   "execution_count": 17,
   "metadata": {},
   "outputs": [],
   "source": [
    "metadata[\"winner_origin\"].append(\"Spain\")\n",
    "metadata[\"winning_team\"].append(\"CSC-Saxo Bank\")"
   ]
  },
  {
   "cell_type": "code",
   "execution_count": 18,
   "metadata": {},
   "outputs": [],
   "source": [
    "metadata[\"winner_origin\"].append(\"Spain\")\n",
    "metadata[\"winning_team\"].append(\"Astana\")"
   ]
  },
  {
   "cell_type": "code",
   "execution_count": 19,
   "metadata": {},
   "outputs": [],
   "source": [
    "metadata[\"winner_origin\"].append(\"Luxembourg\")\n",
    "metadata[\"winning_team\"].append(\"Saxo Bank\")"
   ]
  },
  {
   "cell_type": "code",
   "execution_count": 20,
   "metadata": {},
   "outputs": [],
   "source": [
    "metadata[\"winner_origin\"].append(\"Australia\")\n",
    "metadata[\"winning_team\"].append(\"BMC\")"
   ]
  },
  {
   "cell_type": "code",
   "execution_count": 21,
   "metadata": {},
   "outputs": [],
   "source": [
    "for i in range(98, 105):\n",
    "    metadata[\"winner_origin\"].append(\"Great Britain\")\n",
    "    metadata[\"winning_team\"].append(\"Sky\")"
   ]
  },
  {
   "cell_type": "code",
   "execution_count": 22,
   "metadata": {},
   "outputs": [],
   "source": [
    "metadata[\"winner_origin\"].append(\"Columbia\")\n",
    "metadata[\"winning_team\"].append(\"INEOS\")"
   ]
  },
  {
   "cell_type": "code",
   "execution_count": 23,
   "metadata": {},
   "outputs": [],
   "source": [
    "metadata[\"winner_origin\"].append(\"Slovenia\")\n",
    "metadata[\"winning_team\"].append(\"UAE-Team Emirates\")"
   ]
  },
  {
   "cell_type": "code",
   "execution_count": 24,
   "metadata": {},
   "outputs": [
    {
     "name": "stdout",
     "output_type": "stream",
     "text": [
      "107\n",
      "107\n",
      "107\n",
      "107\n",
      "107\n",
      "107\n"
     ]
    }
   ],
   "source": [
    "for key, val in metadata.items():\n",
    "    print(len(metadata[key]))"
   ]
  },
  {
   "cell_type": "code",
   "execution_count": 25,
   "metadata": {},
   "outputs": [],
   "source": [
    "df = pd.DataFrame(metadata)"
   ]
  },
  {
   "cell_type": "markdown",
   "metadata": {},
   "source": [
    "## Let's add some new fields in our metadata dictionary"
   ]
  },
  {
   "cell_type": "markdown",
   "metadata": {},
   "source": [
    "Before we move on, we want to add some new fields in our `metadata` dictionary. We will use them later to feed our DataFrame with new data sources"
   ]
  },
  {
   "cell_type": "code",
   "execution_count": 26,
   "metadata": {},
   "outputs": [],
   "source": [
    "metadata[\"winner_chrono\"] = []\n",
    "metadata[\"winner_timedelta\"] = []"
   ]
  },
  {
   "cell_type": "markdown",
   "metadata": {},
   "source": [
    "### Let's clean up a little bit some columns"
   ]
  },
  {
   "cell_type": "markdown",
   "metadata": {},
   "source": [
    "#### Retrieve age of winners"
   ]
  },
  {
   "cell_type": "markdown",
   "metadata": {},
   "source": [
    "Our \"winner\" column contains more information but it is kind of messy. Let's try to clean it a little bit more. First, we'll start by retrieving the age of the winner. We'll use a simple regular expression for that : by scanning through the dataset, there is only one suspicious data, being 14 years old. This seems kind of young to win the Tour de France. By inspecting it closer, it looks like there is some missing data for that year. We'll replace it manually."
   ]
  },
  {
   "cell_type": "code",
   "execution_count": 27,
   "metadata": {},
   "outputs": [],
   "source": [
    "def get_age(text):\n",
    "    regex = re.compile(r\"\\d{2}\")\n",
    "    find = re.search(regex, text)\n",
    "    return find.group()"
   ]
  },
  {
   "cell_type": "code",
   "execution_count": 28,
   "metadata": {},
   "outputs": [
    {
     "name": "stdout",
     "output_type": "stream",
     "text": [
      "0 32 Garin, Maurice, 3293hr 33min 14sec\n",
      "1 20 Cornet, Henri, 2096hr 5min 55sec\n",
      "2 24 Trousselier, Louis, 2435 points\n",
      "3 27 Pottier, René, 2731 points\n",
      "4 24 Petit-Breton, Lucien, 2447 points\n",
      "5 25 Petit-Breton, Lucien, 2536 points\n",
      "6 22 Faber, François, 2237 points\n",
      "7 22 Lapize, Octave, 2263 points\n",
      "8 29 Garrigou, Gustave, 2943 points\n",
      "9 24 Defraye, Odile, 2449 points\n",
      "10 23 Thys, Philippe, 23197hr 54min 0sec\n",
      "11 24 Thys, Philippe, 24200hr 28min 49sec\n",
      "12 33 Lambot, Firmin, 33231hr 7min 15sec\n",
      "13 30 Thys, Philippe, 30228hr 36min 13sec\n",
      "14 33 Scieur, Léon 33221hr 36min 0sec\n",
      "15 36 Lambot, Firmin, 36222hr 8min 6sec\n",
      "16 34 Pélissier, Henri, 34222hr 15min 30sec\n",
      "17 30 Bottecchia, Ottavio, 30226hr 18min 21sec\n",
      "18 31 Bottecchia, Ottavio, 31219hr 10min 18sec\n",
      "19 33 Buysse, Lucien, 33238hr 44min 25sec\n",
      "20 28 Frantz, Nicolas, 28198hr 16min 42sec\n",
      "21 29 Frantz, Nicolas, 29192hr 48min 58sec \n",
      "22 33 De Waele, Maurice, 33186hr 39min 16sec\n",
      "23 26 Leducq, André, 26172hr 12min 16sec\n",
      "24 27 Magne, Antonin, 27177hr 10min 3sec\n",
      "25 28 Leducq, André, 28154hr 11min 49sec \n",
      "26 26 Speicher, Georges, 26147hr 51min 37sec\n",
      "27 30 Magne, Antonin, 30147hr 13min 58sec\n",
      "28 22 Maes, Romain, 22141hr 32min 0sec\n",
      "29 27 Maes, Sylvère, 27142hr 47min 32sec\n",
      "30 26 Lapébie, Roger, 26138hr 58min 31sec\n",
      "31 14 Bartali, Gino148min 29min 12sec\n",
      "32 30 Maes, Sylvère, 30132hr 3min 17sec\n",
      "33 26 Robic, Jean, 26148hr 11min 25sec\n",
      "34 34 Bartali, Gino, 34147hr 10min 36sec\n",
      "35 29 Coppi, Fausto, 29149min 40sec 49min\n",
      "36 31 Kübler, Ferdy, 31145hr 36min 56sec\n",
      "37 26 Koblet, Hugo, 26142hr 20min 14sec\n",
      "38 32 Coppi, Fausto, 32151hr 57min 20sec\n",
      "39 28 Bobet, Louison, 28129hr 23min 25sec\n",
      "40 29 Bobet, Louison, 29140hr 6min 5sec\n",
      "41 30 Bobet, Louison, 30130hr 29min 26sec\n",
      "42 29 Walkowiak, Roger, 29124hr 1min 16sec\n",
      "43 23 Anquetil, Jacques, 23135hr 44min 42sec\n",
      "44 26 Gaul, Charly, 26116hr 59min 5sec\n",
      "45 31 Bahamontes, Federico,31; 123hr 46min 45sec\n",
      "46 30 Nencini, Gastone, 30112hr 8min 42sec\n",
      "47 27 Anquetil, Jacques, 27122hr 1min 33sec\n",
      "48 28 Anquetil, Jacques, 28114hr 31min 54sec\n",
      "49 29 Anquetil, Jacques, 29113hr 30min 5sec\n",
      "50 30 Anquetil, Jacques, 30127hr 9min 44sec\n",
      "51 23 Gimondi, Felice, 23116hr 42min 6sec\n",
      "52 25 Aimar, Lucien, 25117hr 34min 21sec\n",
      "53 27 Pingeon, Roger, 27136hr 53min 50sec\n",
      "54 28 Janssen, Jan, 28133hr 49min 32sec\n",
      "55 24 Merckx, Eddy, 24116hr 16min 2sec\n",
      "56 25 Merckx, Eddy, 25119hr 31min 49sec\n",
      "57 26 Merckx, Eddy, 2696hr 45min 14sec\n",
      "58 27 Merckx, Eddy, 27108hr 17min 18sec\n",
      "59 28 Ocaña, Luis, 28122hr 25min 34sec\n",
      "60 29 Merckx, Eddy, 29116hr 16min 58sec\n",
      "61 29 Thévenet, Bernard, 29114hr 35min 31sec\n",
      "62 29 van Impe, Lucien, 29116hr 22min 23sec\n",
      "63 29 Thévenet, Bernard, 29115hr 38min 30sec\n",
      "64 23 Hinault, Bernard, 23108hr 18min 0sec\n",
      "65 24 Hinault, Bernard, 24103hr 6min 50sec\n",
      "66 33 Zoetemelk, Joop, 33109hr 19min 14sec\n",
      "67 26 Hinault, Bernard, 2696hr 19min 38sec\n",
      "68 27 Hinault, Bernard, 2792hr 8min 46sec\n",
      "69 22 Fignon, Laurent, 22105hr 7min 52sec\n",
      "70 23 Fignon, Laurent, 23112hr 3min 40sec\n",
      "71 30 Hinault, Bernard, 30113hr 24min 23sec\n",
      "72 25 LeMond, Greg, 25110hr 35min 19sec\n",
      "73 27 Roche, Stephen, 27115hr 27min 42sec\n",
      "74 28 Delgado, Pedro, 2884min 27min 53sec\n",
      "75 28 LeMond, Greg, 2887hr 38min 35sec\n",
      "76 29 LeMond, Greg, 2990hr 43min 20sec\n",
      "77 27 Induráin, Miguel, 27101hr 1min 20sec\n",
      "78 28 Induráin, Miguel, 28100hr 49min 30sec\n",
      "79 29 Induráin, Miguel, 2995hr 57min 9sec\n",
      "80 30 Induráin, Miguel  30  103hr 38min 38sec\n",
      "81 31 Induráin, Miguel, 3192hr 44min 59sec\n",
      "82 32 Riis, Bjarne, 3295hr 57min 16sec\n",
      "83 23 Ullrich, Jan, 23100hr 30min 35sec\n",
      "84 28 Pantani, Marco, 2892hr 49min 46sec\n",
      "85 27 Armstrong, Lance, 2791hr 32min 16sec\n",
      "86 28 Armstrong, Lance, 2892hr 33min 8sec\n",
      "87 29 Armstrong, Lance, 2986hr 17min 28sec\n",
      "88 30 Armstrong, Lance, 3082hr 5min 12sec\n",
      "89 31 Armstrong, Lance, 3183hr 41min 12sec\n",
      "90 32 Armstrong, Lance, 3283hr 36min 2sec\n",
      "91 33 Armstrong, Lance, 3386hr 15min 2sec  \n",
      "92 30 Óscar Pereiro, 3089hr 40min 27sec  Floyd Landis, before DQ                                                                          89hr 39min 30sec\n",
      "93 24 Alberto Contador, 2491hr 00min 26sec\n",
      "94 33 Carlos Sastre, 3387hr 52min 52sec\n",
      "95 26 Alberto Contador, 2685hr 48min 35sec\n",
      "96 91 Alberto  Contador91hr 58min 48sec        Andy Schleck, 25            91hr 59min 27sec\n",
      "97 34 Cadel Evans, 34      86hr 12min 22sec\n",
      "98 32 Bradley Wiggins, 32      87hr 34min 47sec\n",
      "99 28 Christopher Froome, 28      83hr 56min 40sec\n",
      "100 29 Vincenzo Nibali, 29      89hr 59min 6sec\n",
      "101 30 Christopher Froome, 30      84hr 46min 14sec\n",
      "102 31 Christopher Froome, 31      89hr 4min 48sec\n",
      "103 32 Christopher Froome, 32      86hr 20min 55sec\n",
      "104 32 Geraint Thomas, 32      83hr 17min 13sec\n",
      "105 22 Egan Bernal, 22      82hr 57min 0sec\n",
      "106 20 Tadej Pogacar, 20      87hr 20min 5sec\n"
     ]
    }
   ],
   "source": [
    "list_age = []\n",
    "\n",
    "for i, win in enumerate(df[\"winner\"]):\n",
    "    age = get_age(win)\n",
    "    list_age.append(age)\n",
    "    print(i, age, df[\"winner\"][i])"
   ]
  },
  {
   "cell_type": "code",
   "execution_count": 29,
   "metadata": {},
   "outputs": [],
   "source": [
    "# Let's modify manually the missing value\n",
    "list_age[31] = 24"
   ]
  },
  {
   "cell_type": "code",
   "execution_count": 30,
   "metadata": {},
   "outputs": [],
   "source": [
    "# Finally, let's add the data to our DataFrame\n",
    "df[\"age\"] = list_age"
   ]
  },
  {
   "cell_type": "markdown",
   "metadata": {},
   "source": [
    "#### Retrieve winners' chrono"
   ]
  },
  {
   "cell_type": "markdown",
   "metadata": {},
   "source": [
    "The winner's column contains information about their total chrono : how much time did it take them to go from the first stage to the last. We want to store that information in a dedicated column, that might be helpful later on if we want to calculate the performance of each winner."
   ]
  },
  {
   "cell_type": "code",
   "execution_count": 31,
   "metadata": {},
   "outputs": [],
   "source": [
    "def get_chrono(text):\n",
    "    regex = re.compile(r\"(?<=\\d{2}).+\")\n",
    "    find = re.search(regex, text)\n",
    "    return find.group()"
   ]
  },
  {
   "cell_type": "code",
   "execution_count": 32,
   "metadata": {},
   "outputs": [
    {
     "data": {
      "text/plain": [
       "'Frantz, Nicolas, 29192hr 48min 58sec '"
      ]
     },
     "execution_count": 32,
     "metadata": {},
     "output_type": "execute_result"
    }
   ],
   "source": [
    "df.iloc[21][\"winner\"].replace(\"\\xa0\", \" \")"
   ]
  },
  {
   "cell_type": "code",
   "execution_count": 33,
   "metadata": {},
   "outputs": [],
   "source": [
    "for i, win in enumerate(df[\"winner\"]):\n",
    "    chrono = get_chrono(win)\n",
    "    # Replace non-breaking spaces\n",
    "    chrono = chrono.replace(\"\\xa0\", \" \")\n",
    "    # Handling one badly formated cell\n",
    "    chrono = chrono.replace(\"; \", \"\")\n",
    "    try:\n",
    "        delta = pd.to_timedelta(chrono)\n",
    "        metadata[\"winner_chrono\"].append(chrono)\n",
    "        metadata[\"winner_timedelta\"].append(delta)\n",
    "    except ValueError:\n",
    "        metadata[\"winner_chrono\"].append(np.nan)\n",
    "        metadata[\"winner_timedelta\"].append(np.nan)"
   ]
  },
  {
   "cell_type": "markdown",
   "metadata": {},
   "source": [
    "Because some of the data that represents the winner's time are not properly formated or even sometimes wrong, we will correct those piece of data manually."
   ]
  },
  {
   "cell_type": "code",
   "execution_count": 34,
   "metadata": {},
   "outputs": [],
   "source": [
    "df[\"winner_chrono\"] = metadata[\"winner_chrono\"]\n",
    "df[\"winner_timedelta\"] = metadata[\"winner_timedelta\"]"
   ]
  },
  {
   "cell_type": "code",
   "execution_count": 35,
   "metadata": {},
   "outputs": [],
   "source": [
    "df.at[0, \"winner_chrono\"] = \"94hr 33min 14sec\"\n",
    "df.at[0, \"winner_timedelta\"] = pd.to_timedelta(\"94hr 33min 14sec\")"
   ]
  },
  {
   "cell_type": "code",
   "execution_count": 36,
   "metadata": {},
   "outputs": [],
   "source": [
    "df.at[92, \"winner_chrono\"] = \"89hr 39min 30sec\"\n",
    "df.at[92, \"winner_timedelta\"] = pd.to_timedelta(\"89hr 39min 30sec\")"
   ]
  },
  {
   "cell_type": "code",
   "execution_count": 37,
   "metadata": {},
   "outputs": [],
   "source": [
    "df.at[96, \"winner_chrono\"] = \"91hr 58min 48sec\"\n",
    "df.at[96, \"winner_timedelta\"] = pd.to_timedelta(\"91hr 58min 48sec\")"
   ]
  },
  {
   "cell_type": "code",
   "execution_count": 38,
   "metadata": {},
   "outputs": [
    {
     "data": {
      "text/html": [
       "<div>\n",
       "<style scoped>\n",
       "    .dataframe tbody tr th:only-of-type {\n",
       "        vertical-align: middle;\n",
       "    }\n",
       "\n",
       "    .dataframe tbody tr th {\n",
       "        vertical-align: top;\n",
       "    }\n",
       "\n",
       "    .dataframe thead th {\n",
       "        text-align: right;\n",
       "    }\n",
       "</style>\n",
       "<table border=\"1\" class=\"dataframe\">\n",
       "  <thead>\n",
       "    <tr style=\"text-align: right;\">\n",
       "      <th></th>\n",
       "      <th>year</th>\n",
       "      <th>winner</th>\n",
       "      <th>second</th>\n",
       "      <th>third</th>\n",
       "      <th>winner_origin</th>\n",
       "      <th>winning_team</th>\n",
       "      <th>age</th>\n",
       "      <th>winner_chrono</th>\n",
       "      <th>winner_timedelta</th>\n",
       "    </tr>\n",
       "  </thead>\n",
       "  <tbody>\n",
       "    <tr>\n",
       "      <th>2</th>\n",
       "      <td>1905</td>\n",
       "      <td>Trousselier, Louis, 2435 points</td>\n",
       "      <td>HippolyteAucouturier61 pts.</td>\n",
       "      <td>Jean-BaptisteDortignacq64 pts.</td>\n",
       "      <td>France</td>\n",
       "      <td>Peugeot</td>\n",
       "      <td>24</td>\n",
       "      <td>NaN</td>\n",
       "      <td>NaT</td>\n",
       "    </tr>\n",
       "    <tr>\n",
       "      <th>3</th>\n",
       "      <td>1906</td>\n",
       "      <td>Pottier, René, 2731 points</td>\n",
       "      <td>Georges Passerieu39 pts</td>\n",
       "      <td>LouisTrousselier59pts</td>\n",
       "      <td>France</td>\n",
       "      <td>Peugeot</td>\n",
       "      <td>27</td>\n",
       "      <td>NaN</td>\n",
       "      <td>NaT</td>\n",
       "    </tr>\n",
       "    <tr>\n",
       "      <th>4</th>\n",
       "      <td>1907</td>\n",
       "      <td>Petit-Breton, Lucien, 2447 points</td>\n",
       "      <td>Gustave Garrigou66 pts</td>\n",
       "      <td>Émile Georget74 pts</td>\n",
       "      <td>France</td>\n",
       "      <td>Peugeot</td>\n",
       "      <td>24</td>\n",
       "      <td>NaN</td>\n",
       "      <td>NaT</td>\n",
       "    </tr>\n",
       "    <tr>\n",
       "      <th>5</th>\n",
       "      <td>1908</td>\n",
       "      <td>Petit-Breton, Lucien, 2536 points</td>\n",
       "      <td>François Faber68 pts</td>\n",
       "      <td>Georges Passerieu75 pts</td>\n",
       "      <td>France</td>\n",
       "      <td>Peugeot</td>\n",
       "      <td>25</td>\n",
       "      <td>NaN</td>\n",
       "      <td>NaT</td>\n",
       "    </tr>\n",
       "    <tr>\n",
       "      <th>6</th>\n",
       "      <td>1909</td>\n",
       "      <td>Faber, François, 2237 points</td>\n",
       "      <td>Gustave Garrigou57 pts</td>\n",
       "      <td>Jean Alavoine66 pts</td>\n",
       "      <td>Luxembourg</td>\n",
       "      <td>Alcyon</td>\n",
       "      <td>22</td>\n",
       "      <td>NaN</td>\n",
       "      <td>NaT</td>\n",
       "    </tr>\n",
       "    <tr>\n",
       "      <th>7</th>\n",
       "      <td>1910</td>\n",
       "      <td>Lapize, Octave, 2263 points</td>\n",
       "      <td>François Faber67 pts</td>\n",
       "      <td>GustaveGarrigou86 pts</td>\n",
       "      <td>France</td>\n",
       "      <td>Alcyon</td>\n",
       "      <td>22</td>\n",
       "      <td>NaN</td>\n",
       "      <td>NaT</td>\n",
       "    </tr>\n",
       "    <tr>\n",
       "      <th>8</th>\n",
       "      <td>1911</td>\n",
       "      <td>Garrigou, Gustave, 2943 points</td>\n",
       "      <td>Paul Duboc61 pts</td>\n",
       "      <td>Émile Georget84 pts</td>\n",
       "      <td>France</td>\n",
       "      <td>Alcyon</td>\n",
       "      <td>29</td>\n",
       "      <td>NaN</td>\n",
       "      <td>NaT</td>\n",
       "    </tr>\n",
       "    <tr>\n",
       "      <th>9</th>\n",
       "      <td>1912</td>\n",
       "      <td>Defraye, Odile, 2449 points</td>\n",
       "      <td>Eugène Christophe108 pts</td>\n",
       "      <td>GustaveGarrigou140 pts</td>\n",
       "      <td>Belgium</td>\n",
       "      <td>Alcyon</td>\n",
       "      <td>24</td>\n",
       "      <td>NaN</td>\n",
       "      <td>NaT</td>\n",
       "    </tr>\n",
       "  </tbody>\n",
       "</table>\n",
       "</div>"
      ],
      "text/plain": [
       "   year                             winner                       second  \\\n",
       "2  1905    Trousselier, Louis, 2435 points  HippolyteAucouturier61 pts.   \n",
       "3  1906         Pottier, René, 2731 points      Georges Passerieu39 pts   \n",
       "4  1907  Petit-Breton, Lucien, 2447 points       Gustave Garrigou66 pts   \n",
       "5  1908  Petit-Breton, Lucien, 2536 points         François Faber68 pts   \n",
       "6  1909       Faber, François, 2237 points       Gustave Garrigou57 pts   \n",
       "7  1910        Lapize, Octave, 2263 points         François Faber67 pts   \n",
       "8  1911     Garrigou, Gustave, 2943 points             Paul Duboc61 pts   \n",
       "9  1912        Defraye, Odile, 2449 points     Eugène Christophe108 pts   \n",
       "\n",
       "                            third winner_origin winning_team age  \\\n",
       "2  Jean-BaptisteDortignacq64 pts.        France      Peugeot  24   \n",
       "3           LouisTrousselier59pts        France      Peugeot  27   \n",
       "4             Émile Georget74 pts        France      Peugeot  24   \n",
       "5         Georges Passerieu75 pts        France      Peugeot  25   \n",
       "6             Jean Alavoine66 pts    Luxembourg       Alcyon  22   \n",
       "7           GustaveGarrigou86 pts        France       Alcyon  22   \n",
       "8             Émile Georget84 pts        France       Alcyon  29   \n",
       "9          GustaveGarrigou140 pts       Belgium       Alcyon  24   \n",
       "\n",
       "  winner_chrono winner_timedelta  \n",
       "2           NaN              NaT  \n",
       "3           NaN              NaT  \n",
       "4           NaN              NaT  \n",
       "5           NaN              NaT  \n",
       "6           NaN              NaT  \n",
       "7           NaN              NaT  \n",
       "8           NaN              NaT  \n",
       "9           NaN              NaT  "
      ]
     },
     "execution_count": 38,
     "metadata": {},
     "output_type": "execute_result"
    }
   ],
   "source": [
    "df[df[\"winner_chrono\"].isnull()]"
   ]
  },
  {
   "cell_type": "code",
   "execution_count": 39,
   "metadata": {},
   "outputs": [
    {
     "data": {
      "text/plain": [
       "year                                            1990\n",
       "winner              LeMond, Greg, 2990hr 43min 20sec\n",
       "second                  Claudio Chiappucci2min 16sec\n",
       "third                        Erik Breukink2min 29sec\n",
       "winner_origin                                 U.S.A.\n",
       "winning_team                                       Z\n",
       "age                                               29\n",
       "winner_chrono                       90hr 43min 20sec\n",
       "winner_timedelta                     3 days 18:43:20\n",
       "Name: 76, dtype: object"
      ]
     },
     "execution_count": 39,
     "metadata": {},
     "output_type": "execute_result"
    }
   ],
   "source": [
    "df.iloc[76]"
   ]
  },
  {
   "cell_type": "code",
   "execution_count": 40,
   "metadata": {},
   "outputs": [
    {
     "data": {
      "text/plain": [
       "'      87hr 20min 5sec'"
      ]
     },
     "execution_count": 40,
     "metadata": {},
     "output_type": "execute_result"
    }
   ],
   "source": [
    "df.at[106, \"winner_chrono\"]"
   ]
  },
  {
   "cell_type": "code",
   "execution_count": 41,
   "metadata": {},
   "outputs": [],
   "source": [
    "df.at[14, \"winner_chrono\"] = \"221hr 50min 26sec\"\n",
    "df.at[14, \"winner_timedelta\"] = pd.to_timedelta(\"221hr 50min 26sec\")"
   ]
  },
  {
   "cell_type": "code",
   "execution_count": 42,
   "metadata": {},
   "outputs": [],
   "source": [
    "df.at[31, \"winner_chrono\"] = \"148hr 29min 12sec\"\n",
    "df.at[31, \"winner_timedelta\"] = pd.to_timedelta(\"148hr 29min 12sec\")"
   ]
  },
  {
   "cell_type": "code",
   "execution_count": 43,
   "metadata": {},
   "outputs": [],
   "source": [
    "df.at[54, \"winner_chrono\"] = \"133hr 49min 42sec\"\n",
    "df.at[54, \"winner_timedelta\"] = pd.to_timedelta(\"133hr 49min 42sec\")"
   ]
  },
  {
   "cell_type": "code",
   "execution_count": 44,
   "metadata": {},
   "outputs": [],
   "source": [
    "df.at[64, \"winner_chrono\"] = \"112hr 3min 2sec\"\n",
    "df.at[64, \"winner_timedelta\"] = pd.to_timedelta(\"112hr 3min 2sec\")"
   ]
  },
  {
   "cell_type": "code",
   "execution_count": 45,
   "metadata": {},
   "outputs": [],
   "source": [
    "df.at[74, \"winner_chrono\"] = \"84hr 27min 58sec\"\n",
    "df.at[74, \"winner_timedelta\"] = pd.to_timedelta(\"84hr 27min 58sec\")"
   ]
  },
  {
   "cell_type": "code",
   "execution_count": 46,
   "metadata": {},
   "outputs": [],
   "source": [
    "df.at[80, \"winner_chrono\"] = \"103hr 38min 38sec\"\n",
    "df.at[80, \"winner_timedelta\"] = pd.to_timedelta(\"103hr 38min 38sec\")"
   ]
  },
  {
   "cell_type": "code",
   "execution_count": 47,
   "metadata": {},
   "outputs": [],
   "source": [
    "for i in range(97, 107):\n",
    "    df.at[i, \"winner_chrono\"] = df.at[i, \"winner_chrono\"].replace(\"\\t\", \"\")"
   ]
  },
  {
   "cell_type": "code",
   "execution_count": 48,
   "metadata": {},
   "outputs": [
    {
     "data": {
      "text/plain": [
       "'      83hr 56min 40sec'"
      ]
     },
     "execution_count": 48,
     "metadata": {},
     "output_type": "execute_result"
    }
   ],
   "source": [
    "df.at[99, \"winner_chrono\"]"
   ]
  },
  {
   "cell_type": "markdown",
   "metadata": {},
   "source": [
    "#### Clean up winners name"
   ]
  },
  {
   "cell_type": "markdown",
   "metadata": {},
   "source": [
    "The winner's column is still kind of messy. Let's try to clean it up further more now that we have extracted all the values that we cared about."
   ]
  },
  {
   "cell_type": "code",
   "execution_count": 49,
   "metadata": {},
   "outputs": [],
   "source": [
    "metadata[\"winner\"] = []"
   ]
  },
  {
   "cell_type": "code",
   "execution_count": 50,
   "metadata": {},
   "outputs": [],
   "source": [
    "def clean_runner(text):\n",
    "    winner = text.split(\",\")\n",
    "    return winner"
   ]
  },
  {
   "cell_type": "code",
   "execution_count": 51,
   "metadata": {},
   "outputs": [],
   "source": [
    "for i in range (0, 107):\n",
    "    a = clean_runner(df.at[i, \"winner\"])\n",
    "    metadata[\"winner\"].append(\" \".join([a[1][1:], a[0]]))"
   ]
  },
  {
   "cell_type": "code",
   "execution_count": 52,
   "metadata": {},
   "outputs": [],
   "source": [
    "df[\"winner\"] = metadata[\"winner\"]"
   ]
  },
  {
   "cell_type": "code",
   "execution_count": 53,
   "metadata": {},
   "outputs": [],
   "source": [
    "df.at[14, \"winner\"] = \"Léon Scieur\""
   ]
  },
  {
   "cell_type": "code",
   "execution_count": 54,
   "metadata": {},
   "outputs": [],
   "source": [
    "df.at[31, \"winner\"] = \"Gino Bartali\""
   ]
  },
  {
   "cell_type": "code",
   "execution_count": 55,
   "metadata": {},
   "outputs": [],
   "source": [
    "df.at[80, \"winner\"] = \"Miguel Induráin\""
   ]
  },
  {
   "cell_type": "code",
   "execution_count": 56,
   "metadata": {},
   "outputs": [],
   "source": [
    "df.at[92, \"winner\"] = \"Floyd Landis\""
   ]
  },
  {
   "cell_type": "code",
   "execution_count": 57,
   "metadata": {},
   "outputs": [],
   "source": [
    "df.at[93, \"winner\"] = \"Alberto Contador\""
   ]
  },
  {
   "cell_type": "code",
   "execution_count": 58,
   "metadata": {},
   "outputs": [],
   "source": [
    "df.at[94, \"winner\"] = \"Carlos Sastre\""
   ]
  },
  {
   "cell_type": "code",
   "execution_count": 59,
   "metadata": {},
   "outputs": [],
   "source": [
    "df.at[95, \"winner\"] = \"Alberto Contador\""
   ]
  },
  {
   "cell_type": "code",
   "execution_count": 60,
   "metadata": {},
   "outputs": [],
   "source": [
    "df.at[96, \"winner\"] = \"Alberto Contador\""
   ]
  },
  {
   "cell_type": "code",
   "execution_count": 61,
   "metadata": {},
   "outputs": [],
   "source": [
    "df.at[97, \"winner\"] = \"Cadel Evans\""
   ]
  },
  {
   "cell_type": "code",
   "execution_count": 62,
   "metadata": {},
   "outputs": [],
   "source": [
    "df.at[98, \"winner\"] = \"Bradley Wiggins\""
   ]
  },
  {
   "cell_type": "code",
   "execution_count": 63,
   "metadata": {},
   "outputs": [],
   "source": [
    "df.at[99, \"winner\"] = \"Christopher Froome\""
   ]
  },
  {
   "cell_type": "code",
   "execution_count": 64,
   "metadata": {},
   "outputs": [],
   "source": [
    "df.at[100, \"winner\"] = \"Vincenzo Nibali\""
   ]
  },
  {
   "cell_type": "code",
   "execution_count": 65,
   "metadata": {},
   "outputs": [],
   "source": [
    "for i in range(101, 104):\n",
    "    df.at[i, \"winner\"] = \"Christopher Froome\""
   ]
  },
  {
   "cell_type": "code",
   "execution_count": 66,
   "metadata": {},
   "outputs": [],
   "source": [
    "df.at[104, \"winner\"] = \"Geraint Thomas\""
   ]
  },
  {
   "cell_type": "code",
   "execution_count": 67,
   "metadata": {},
   "outputs": [],
   "source": [
    "df.at[105, \"winner\"] = \"Egan Bernal\""
   ]
  },
  {
   "cell_type": "code",
   "execution_count": 68,
   "metadata": {},
   "outputs": [],
   "source": [
    "df.at[106, \"winner\"] = \"Tadej Pogacar\""
   ]
  },
  {
   "cell_type": "markdown",
   "metadata": {},
   "source": [
    "Now, let's clean the second runner."
   ]
  },
  {
   "cell_type": "code",
   "execution_count": 69,
   "metadata": {},
   "outputs": [],
   "source": [
    "metadata[\"second\"] = []"
   ]
  },
  {
   "cell_type": "code",
   "execution_count": 70,
   "metadata": {},
   "outputs": [],
   "source": [
    "def split_with_num(text):\n",
    "    clean = re.compile(r\"\\d{1}|@\").split(text)\n",
    "    return clean"
   ]
  },
  {
   "cell_type": "code",
   "execution_count": 71,
   "metadata": {},
   "outputs": [],
   "source": [
    "for second in df[\"second\"]:\n",
    "    a = split_with_num(second)\n",
    "    metadata[\"second\"].append(a[0])"
   ]
  },
  {
   "cell_type": "code",
   "execution_count": 72,
   "metadata": {},
   "outputs": [],
   "source": [
    "df[\"second\"] = metadata[\"second\"]"
   ]
  },
  {
   "cell_type": "code",
   "execution_count": 73,
   "metadata": {},
   "outputs": [],
   "source": [
    "df.at[1, \"second\"] = \"Jean-Baptiste Dortignacq\""
   ]
  },
  {
   "cell_type": "code",
   "execution_count": 74,
   "metadata": {},
   "outputs": [],
   "source": [
    "df.at[2, \"second\"] = \"Hippolyte Aucouturier\""
   ]
  },
  {
   "cell_type": "code",
   "execution_count": 75,
   "metadata": {},
   "outputs": [],
   "source": [
    "df.at[33, \"second\"] = \"Édouard Fachleitner\""
   ]
  },
  {
   "cell_type": "code",
   "execution_count": 76,
   "metadata": {},
   "outputs": [],
   "source": [
    "df.at[49, \"second\"] = \"Federico Bahamontes\""
   ]
  },
  {
   "cell_type": "markdown",
   "metadata": {},
   "source": [
    "Finally, let's clean the third runner."
   ]
  },
  {
   "cell_type": "code",
   "execution_count": 77,
   "metadata": {},
   "outputs": [],
   "source": [
    "metadata[\"third\"] = []"
   ]
  },
  {
   "cell_type": "code",
   "execution_count": 78,
   "metadata": {},
   "outputs": [],
   "source": [
    "for third in df[\"third\"]:\n",
    "    a = split_with_num(third)\n",
    "    metadata[\"third\"].append(a[0])"
   ]
  },
  {
   "cell_type": "code",
   "execution_count": 79,
   "metadata": {},
   "outputs": [],
   "source": [
    "df[\"third\"] = metadata[\"third\"]"
   ]
  },
  {
   "cell_type": "markdown",
   "metadata": {},
   "source": [
    "Let's clean manually some cells."
   ]
  },
  {
   "cell_type": "code",
   "execution_count": 80,
   "metadata": {},
   "outputs": [],
   "source": [
    "df.at[2, \"third\"] = \"Jean-Baptiste Dortignacq\""
   ]
  },
  {
   "cell_type": "code",
   "execution_count": 81,
   "metadata": {},
   "outputs": [],
   "source": [
    "df.at[3, \"third\"] = \"Louis Trousselier\""
   ]
  },
  {
   "cell_type": "code",
   "execution_count": 82,
   "metadata": {},
   "outputs": [],
   "source": [
    "df.at[7, \"third\"] = \"Gustave Garrigou\""
   ]
  },
  {
   "cell_type": "code",
   "execution_count": 83,
   "metadata": {},
   "outputs": [],
   "source": [
    "df.at[9, \"third\"] = \"Gustave Garrigou\""
   ]
  },
  {
   "cell_type": "code",
   "execution_count": 84,
   "metadata": {},
   "outputs": [],
   "source": [
    "df.at[16, \"third\"] = \"Romain Bellenger\""
   ]
  },
  {
   "cell_type": "code",
   "execution_count": 85,
   "metadata": {},
   "outputs": [],
   "source": [
    "df.at[35, \"third\"] = \"Jacques Marinelli\""
   ]
  },
  {
   "cell_type": "code",
   "execution_count": 86,
   "metadata": {},
   "outputs": [],
   "source": [
    "df.at[50, \"third\"] = \"Federico Bahamontes\""
   ]
  },
  {
   "cell_type": "code",
   "execution_count": 87,
   "metadata": {},
   "outputs": [],
   "source": [
    "df.at[54, \"third\"] = \"Ferdinand Bracke\""
   ]
  },
  {
   "cell_type": "code",
   "execution_count": 88,
   "metadata": {},
   "outputs": [],
   "source": [
    "df.at[56, \"third\"] = \"Gösta Pettersson\""
   ]
  },
  {
   "cell_type": "code",
   "execution_count": 89,
   "metadata": {},
   "outputs": [],
   "source": [
    "df.at[57, \"third\"] = \"Lucien Van Impe\""
   ]
  },
  {
   "cell_type": "code",
   "execution_count": 90,
   "metadata": {},
   "outputs": [],
   "source": [
    "df.at[61, \"third\"] = \"Lucien Van Impe\""
   ]
  },
  {
   "cell_type": "code",
   "execution_count": 91,
   "metadata": {},
   "outputs": [],
   "source": [
    "df.at[63, \"third\"] = \"Lucien Van Impe\""
   ]
  },
  {
   "cell_type": "code",
   "execution_count": 92,
   "metadata": {},
   "outputs": [],
   "source": [
    "df.at[72, \"third\"] = \"Urs Zimmermann\""
   ]
  },
  {
   "cell_type": "code",
   "execution_count": 93,
   "metadata": {},
   "outputs": [],
   "source": [
    "df.at[73, \"third\"] = \"Jean-François Bernard\""
   ]
  },
  {
   "cell_type": "code",
   "execution_count": 94,
   "metadata": {},
   "outputs": [],
   "source": [
    "df.at[82, \"third\"] = \"Richard Virenque\""
   ]
  },
  {
   "cell_type": "code",
   "execution_count": 95,
   "metadata": {},
   "outputs": [],
   "source": [
    "df.at[96, \"third\"] = \"Samuel Sánchez\""
   ]
  },
  {
   "cell_type": "markdown",
   "metadata": {},
   "source": [
    "### Convert timedeltas to seconds"
   ]
  },
  {
   "cell_type": "markdown",
   "metadata": {},
   "source": [
    "Because we might need to do some calculations, we want to convert each timedeltas to seconds."
   ]
  },
  {
   "cell_type": "code",
   "execution_count": 63,
   "metadata": {},
   "outputs": [
    {
     "name": "stdout",
     "output_type": "stream",
     "text": [
      "3 days 22:33:14.000000000\n",
      "4 days 00:05:55.000000000\n",
      "nan\n",
      "nan\n",
      "nan\n",
      "nan\n",
      "nan\n",
      "nan\n",
      "nan\n",
      "nan\n",
      "8 days 05:54:00.000000000\n",
      "8 days 08:28:49.000000000\n",
      "9 days 15:07:15.000000000\n",
      "9 days 12:36:13.000000000\n",
      "9 days 05:50:26.000000000\n",
      "9 days 06:08:06.000000000\n",
      "9 days 06:15:30.000000000\n",
      "9 days 10:18:21.000000000\n",
      "9 days 03:10:18.000000000\n",
      "9 days 22:44:25.000000000\n",
      "8 days 06:16:42.000000000\n",
      "8 days 00:48:58.000000000\n",
      "7 days 18:39:16.000000000\n",
      "7 days 04:12:16.000000000\n",
      "7 days 09:10:03.000000000\n",
      "6 days 10:11:49.000000000\n",
      "6 days 03:51:37.000000000\n",
      "6 days 03:13:58.000000000\n",
      "5 days 21:32:00.000000000\n",
      "5 days 22:47:32.000000000\n",
      "5 days 18:58:31.000000000\n",
      "6 days 04:29:12.000000000\n",
      "5 days 12:03:17.000000000\n",
      "6 days 04:11:25.000000000\n",
      "6 days 03:10:36.000000000\n",
      "0 days 03:18:40.000000000\n",
      "6 days 01:36:56.000000000\n",
      "5 days 22:20:14.000000000\n",
      "6 days 07:57:20.000000000\n",
      "5 days 09:23:25.000000000\n",
      "5 days 20:06:05.000000000\n",
      "5 days 10:29:26.000000000\n",
      "5 days 04:01:16.000000000\n",
      "5 days 15:44:42.000000000\n",
      "4 days 20:59:05.000000000\n",
      "5 days 03:46:45.000000000\n",
      "4 days 16:08:42.000000000\n",
      "5 days 02:01:33.000000000\n",
      "4 days 18:31:54.000000000\n",
      "4 days 17:30:05.000000000\n",
      "5 days 07:09:44.000000000\n",
      "4 days 20:42:06.000000000\n",
      "4 days 21:34:21.000000000\n",
      "5 days 16:53:50.000000000\n",
      "5 days 13:49:42.000000000\n",
      "4 days 20:16:02.000000000\n",
      "4 days 23:31:49.000000000\n",
      "4 days 00:45:14.000000000\n",
      "4 days 12:17:18.000000000\n",
      "5 days 02:25:34.000000000\n",
      "4 days 20:16:58.000000000\n",
      "4 days 18:35:31.000000000\n",
      "4 days 20:22:23.000000000\n",
      "4 days 19:38:30.000000000\n",
      "4 days 16:03:02.000000000\n",
      "4 days 07:06:50.000000000\n",
      "4 days 13:19:14.000000000\n",
      "4 days 00:19:38.000000000\n",
      "3 days 20:08:46.000000000\n",
      "4 days 09:07:52.000000000\n",
      "4 days 16:03:40.000000000\n",
      "4 days 17:24:23.000000000\n",
      "4 days 14:35:19.000000000\n",
      "4 days 19:27:42.000000000\n",
      "3 days 12:27:58.000000000\n",
      "3 days 15:38:35.000000000\n",
      "3 days 18:43:20.000000000\n",
      "4 days 05:01:20.000000000\n",
      "4 days 04:49:30.000000000\n",
      "3 days 23:57:09.000000000\n",
      "4 days 07:38:38.000000000\n",
      "3 days 20:44:59.000000000\n",
      "3 days 23:57:16.000000000\n",
      "4 days 04:30:35.000000000\n",
      "3 days 20:49:46.000000000\n",
      "3 days 19:32:16.000000000\n",
      "3 days 20:33:08.000000000\n",
      "3 days 14:17:28.000000000\n",
      "3 days 10:05:12.000000000\n",
      "3 days 11:41:12.000000000\n",
      "3 days 11:36:02.000000000\n",
      "3 days 14:15:02.000000000\n",
      "3 days 17:39:30.000000000\n",
      "3 days 19:00:26.000000000\n",
      "3 days 15:52:52.000000000\n",
      "3 days 13:48:35.000000000\n",
      "3 days 19:58:48.000000000\n",
      "3 days 14:12:22.000000000\n",
      "3 days 15:34:47.000000000\n",
      "3 days 11:56:40.000000000\n",
      "3 days 17:59:06.000000000\n",
      "3 days 12:46:14.000000000\n",
      "3 days 17:04:48.000000000\n",
      "3 days 14:20:55.000000000\n",
      "3 days 11:17:13.000000000\n",
      "3 days 10:57:00.000000000\n",
      "3 days 15:20:05.000000000\n"
     ]
    }
   ],
   "source": [
    "for ind, row in df.iterrows():\n",
    "    df.at[ind, \"winner_seconds\"] = pd.to_timedelta(df.at[ind, \"winner_chrono\"]).total_seconds()"
   ]
  },
  {
   "cell_type": "markdown",
   "metadata": {},
   "source": [
    "## Export the results"
   ]
  },
  {
   "cell_type": "markdown",
   "metadata": {},
   "source": [
    "Now that we have cleaned up our dataset, we want to make sure we export it in a CSV file so we don't have to do all these steps again the next time we want to explore our dataset."
   ]
  },
  {
   "cell_type": "code",
   "execution_count": 96,
   "metadata": {},
   "outputs": [],
   "source": [
    "def clean_winner(text):\n",
    "    regex = re.compile(r\"^ \")\n",
    "    a = regex.sub(\" \", text)\n",
    "    return a"
   ]
  },
  {
   "cell_type": "code",
   "execution_count": 97,
   "metadata": {},
   "outputs": [],
   "source": [
    "metadata[\"winner\"] = []"
   ]
  },
  {
   "cell_type": "code",
   "execution_count": 98,
   "metadata": {},
   "outputs": [],
   "source": [
    "for win in df[\"winner\"]:\n",
    "    a = clean_winner(win)\n",
    "    metadata[\"winner\"].append(a)"
   ]
  },
  {
   "cell_type": "code",
   "execution_count": 66,
   "metadata": {},
   "outputs": [],
   "source": [
    "df.to_csv(\"data_tdf.csv\", sep=\";\", encoding=\"utf-8\")"
   ]
  },
  {
   "cell_type": "markdown",
   "metadata": {},
   "source": [
    "## Get some additional data"
   ]
  },
  {
   "cell_type": "markdown",
   "metadata": {},
   "source": [
    "Because data is poorly formated on every web site that could be used as a source, additionnal data was gathered and added manually. Let's take a look at the new information we have now."
   ]
  },
  {
   "cell_type": "code",
   "execution_count": 273,
   "metadata": {},
   "outputs": [],
   "source": [
    "df = pd.read_excel(\"data_complete.xlsx\", sep=\";\", encoding=\"windows-1252\")"
   ]
  },
  {
   "cell_type": "code",
   "execution_count": 274,
   "metadata": {},
   "outputs": [
    {
     "data": {
      "text/html": [
       "<div>\n",
       "<style scoped>\n",
       "    .dataframe tbody tr th:only-of-type {\n",
       "        vertical-align: middle;\n",
       "    }\n",
       "\n",
       "    .dataframe tbody tr th {\n",
       "        vertical-align: top;\n",
       "    }\n",
       "\n",
       "    .dataframe thead th {\n",
       "        text-align: right;\n",
       "    }\n",
       "</style>\n",
       "<table border=\"1\" class=\"dataframe\">\n",
       "  <thead>\n",
       "    <tr style=\"text-align: right;\">\n",
       "      <th></th>\n",
       "      <th>id</th>\n",
       "      <th>year</th>\n",
       "      <th>winner</th>\n",
       "      <th>second</th>\n",
       "      <th>third</th>\n",
       "      <th>winner_origin</th>\n",
       "      <th>winning_team</th>\n",
       "      <th>age</th>\n",
       "      <th>winner_chrono</th>\n",
       "      <th>winner_timedelta</th>\n",
       "      <th>...</th>\n",
       "      <th>third_mountain</th>\n",
       "      <th>first_mountain_points</th>\n",
       "      <th>second_mountain_points</th>\n",
       "      <th>third_mountain_points</th>\n",
       "      <th>first_sprint</th>\n",
       "      <th>second_sprint</th>\n",
       "      <th>third_sprint</th>\n",
       "      <th>first_sprint_points</th>\n",
       "      <th>second_sprint_points</th>\n",
       "      <th>third_sprint_points</th>\n",
       "    </tr>\n",
       "  </thead>\n",
       "  <tbody>\n",
       "    <tr>\n",
       "      <th>8</th>\n",
       "      <td>8</td>\n",
       "      <td>1911</td>\n",
       "      <td>Gustave Garrigou</td>\n",
       "      <td>Paul Duboc</td>\n",
       "      <td>Émile Georget</td>\n",
       "      <td>France</td>\n",
       "      <td>Alcyon</td>\n",
       "      <td>29</td>\n",
       "      <td>NaN</td>\n",
       "      <td>NaN</td>\n",
       "      <td>...</td>\n",
       "      <td>NaN</td>\n",
       "      <td>NaN</td>\n",
       "      <td>NaN</td>\n",
       "      <td>NaN</td>\n",
       "      <td>NaN</td>\n",
       "      <td>NaN</td>\n",
       "      <td>NaN</td>\n",
       "      <td>NaN</td>\n",
       "      <td>NaN</td>\n",
       "      <td>NaN</td>\n",
       "    </tr>\n",
       "    <tr>\n",
       "      <th>88</th>\n",
       "      <td>88</td>\n",
       "      <td>2002</td>\n",
       "      <td>Lance Armstrong</td>\n",
       "      <td>Joseba Beloki</td>\n",
       "      <td>Raimondas Rumsas</td>\n",
       "      <td>USA</td>\n",
       "      <td>US Postal</td>\n",
       "      <td>30</td>\n",
       "      <td>82hr 5min 12sec</td>\n",
       "      <td>3 days 10:05:12.000000000</td>\n",
       "      <td>...</td>\n",
       "      <td>Santiago Botero</td>\n",
       "      <td>262.0</td>\n",
       "      <td>178.0</td>\n",
       "      <td>162.0</td>\n",
       "      <td>Robbie McEwen</td>\n",
       "      <td>Erik Zabel</td>\n",
       "      <td>Stuart O'Grady</td>\n",
       "      <td>280.0</td>\n",
       "      <td>261.0</td>\n",
       "      <td>208.0</td>\n",
       "    </tr>\n",
       "    <tr>\n",
       "      <th>6</th>\n",
       "      <td>6</td>\n",
       "      <td>1909</td>\n",
       "      <td>François Faber</td>\n",
       "      <td>Gustave Garrigou</td>\n",
       "      <td>Jean Alavoine</td>\n",
       "      <td>Luxembourg</td>\n",
       "      <td>Alcyon</td>\n",
       "      <td>22</td>\n",
       "      <td>NaN</td>\n",
       "      <td>NaN</td>\n",
       "      <td>...</td>\n",
       "      <td>NaN</td>\n",
       "      <td>NaN</td>\n",
       "      <td>NaN</td>\n",
       "      <td>NaN</td>\n",
       "      <td>NaN</td>\n",
       "      <td>NaN</td>\n",
       "      <td>NaN</td>\n",
       "      <td>NaN</td>\n",
       "      <td>NaN</td>\n",
       "      <td>NaN</td>\n",
       "    </tr>\n",
       "    <tr>\n",
       "      <th>11</th>\n",
       "      <td>11</td>\n",
       "      <td>1914</td>\n",
       "      <td>Philippe Thys</td>\n",
       "      <td>Henri Pélissier</td>\n",
       "      <td>Jean Alavoine</td>\n",
       "      <td>Belgium</td>\n",
       "      <td>Peugeot</td>\n",
       "      <td>24</td>\n",
       "      <td>200hr 28min 49sec</td>\n",
       "      <td>8 days 08:28:49.000000000</td>\n",
       "      <td>...</td>\n",
       "      <td>NaN</td>\n",
       "      <td>NaN</td>\n",
       "      <td>NaN</td>\n",
       "      <td>NaN</td>\n",
       "      <td>NaN</td>\n",
       "      <td>NaN</td>\n",
       "      <td>NaN</td>\n",
       "      <td>NaN</td>\n",
       "      <td>NaN</td>\n",
       "      <td>NaN</td>\n",
       "    </tr>\n",
       "    <tr>\n",
       "      <th>23</th>\n",
       "      <td>23</td>\n",
       "      <td>1930</td>\n",
       "      <td>André Leducq</td>\n",
       "      <td>Learco Guerra</td>\n",
       "      <td>Antonin Magne</td>\n",
       "      <td>France</td>\n",
       "      <td>France</td>\n",
       "      <td>26</td>\n",
       "      <td>172hr 12min 16sec</td>\n",
       "      <td>7 days 04:12:16.000000000</td>\n",
       "      <td>...</td>\n",
       "      <td>NaN</td>\n",
       "      <td>NaN</td>\n",
       "      <td>NaN</td>\n",
       "      <td>NaN</td>\n",
       "      <td>NaN</td>\n",
       "      <td>NaN</td>\n",
       "      <td>NaN</td>\n",
       "      <td>NaN</td>\n",
       "      <td>NaN</td>\n",
       "      <td>NaN</td>\n",
       "    </tr>\n",
       "  </tbody>\n",
       "</table>\n",
       "<p>5 rows × 31 columns</p>\n",
       "</div>"
      ],
      "text/plain": [
       "    id  year            winner            second             third  \\\n",
       "8    8  1911  Gustave Garrigou        Paul Duboc     Émile Georget   \n",
       "88  88  2002   Lance Armstrong     Joseba Beloki  Raimondas Rumsas   \n",
       "6    6  1909    François Faber  Gustave Garrigou     Jean Alavoine   \n",
       "11  11  1914     Philippe Thys   Henri Pélissier     Jean Alavoine   \n",
       "23  23  1930      André Leducq     Learco Guerra     Antonin Magne   \n",
       "\n",
       "   winner_origin winning_team  age      winner_chrono  \\\n",
       "8         France       Alcyon   29                NaN   \n",
       "88           USA    US Postal   30    82hr 5min 12sec   \n",
       "6     Luxembourg       Alcyon   22                NaN   \n",
       "11       Belgium      Peugeot   24  200hr 28min 49sec   \n",
       "23        France       France   26  172hr 12min 16sec   \n",
       "\n",
       "             winner_timedelta  ...   third_mountain  first_mountain_points  \\\n",
       "8                         NaN  ...              NaN                    NaN   \n",
       "88  3 days 10:05:12.000000000  ...  Santiago Botero                  262.0   \n",
       "6                         NaN  ...              NaN                    NaN   \n",
       "11  8 days 08:28:49.000000000  ...              NaN                    NaN   \n",
       "23  7 days 04:12:16.000000000  ...              NaN                    NaN   \n",
       "\n",
       "    second_mountain_points  third_mountain_points   first_sprint  \\\n",
       "8                      NaN                    NaN            NaN   \n",
       "88                   178.0                  162.0  Robbie McEwen   \n",
       "6                      NaN                    NaN            NaN   \n",
       "11                     NaN                    NaN            NaN   \n",
       "23                     NaN                    NaN            NaN   \n",
       "\n",
       "    second_sprint    third_sprint first_sprint_points second_sprint_points  \\\n",
       "8             NaN             NaN                 NaN                  NaN   \n",
       "88     Erik Zabel  Stuart O'Grady               280.0                261.0   \n",
       "6             NaN             NaN                 NaN                  NaN   \n",
       "11            NaN             NaN                 NaN                  NaN   \n",
       "23            NaN             NaN                 NaN                  NaN   \n",
       "\n",
       "   third_sprint_points  \n",
       "8                  NaN  \n",
       "88               208.0  \n",
       "6                  NaN  \n",
       "11                 NaN  \n",
       "23                 NaN  \n",
       "\n",
       "[5 rows x 31 columns]"
      ]
     },
     "execution_count": 274,
     "metadata": {},
     "output_type": "execute_result"
    }
   ],
   "source": [
    "df.sample(5)"
   ]
  },
  {
   "cell_type": "markdown",
   "metadata": {},
   "source": [
    "## Some EDA"
   ]
  },
  {
   "cell_type": "markdown",
   "metadata": {},
   "source": [
    "The first thing we want to look at, is the type of data we have in our different columns."
   ]
  },
  {
   "cell_type": "code",
   "execution_count": 275,
   "metadata": {},
   "outputs": [
    {
     "name": "stdout",
     "output_type": "stream",
     "text": [
      "<class 'pandas.core.frame.DataFrame'>\n",
      "RangeIndex: 107 entries, 0 to 106\n",
      "Data columns (total 31 columns):\n",
      " #   Column                  Non-Null Count  Dtype         \n",
      "---  ------                  --------------  -----         \n",
      " 0   id                      107 non-null    int64         \n",
      " 1   year                    107 non-null    int64         \n",
      " 2   winner                  107 non-null    object        \n",
      " 3   second                  107 non-null    object        \n",
      " 4   third                   107 non-null    object        \n",
      " 5   winner_origin           107 non-null    object        \n",
      " 6   winning_team            107 non-null    object        \n",
      " 7   age                     107 non-null    int64         \n",
      " 8   winner_chrono           99 non-null     object        \n",
      " 9   winner_timedelta        99 non-null     object        \n",
      " 10  winner_seconds          99 non-null     float64       \n",
      " 11  second_seconds          99 non-null     float64       \n",
      " 12  third_seconds           99 non-null     float64       \n",
      " 13  average_speed           107 non-null    float64       \n",
      " 14  num_runners             107 non-null    int64         \n",
      " 15  total_length            107 non-null    int64         \n",
      " 16  num_stages              107 non-null    int64         \n",
      " 17  debut_date              107 non-null    datetime64[ns]\n",
      " 18  end_date                107 non-null    datetime64[ns]\n",
      " 19  first_mountain          79 non-null     object        \n",
      " 20  second_mountain         79 non-null     object        \n",
      " 21  third_mountain          79 non-null     object        \n",
      " 22  first_mountain_points   79 non-null     float64       \n",
      " 23  second_mountain_points  79 non-null     float64       \n",
      " 24  third_mountain_points   78 non-null     float64       \n",
      " 25  first_sprint            69 non-null     object        \n",
      " 26  second_sprint           68 non-null     object        \n",
      " 27  third_sprint            68 non-null     object        \n",
      " 28  first_sprint_points     68 non-null     float64       \n",
      " 29  second_sprint_points    68 non-null     float64       \n",
      " 30  third_sprint_points     68 non-null     float64       \n",
      "dtypes: datetime64[ns](2), float64(10), int64(6), object(13)\n",
      "memory usage: 26.0+ KB\n"
     ]
    }
   ],
   "source": [
    "df.info()"
   ]
  },
  {
   "cell_type": "markdown",
   "metadata": {},
   "source": [
    "Now, let's take a look at the shape of our dataset."
   ]
  },
  {
   "cell_type": "code",
   "execution_count": 276,
   "metadata": {},
   "outputs": [
    {
     "data": {
      "text/plain": [
       "(107, 31)"
      ]
     },
     "execution_count": 276,
     "metadata": {},
     "output_type": "execute_result"
    }
   ],
   "source": [
    "df.shape"
   ]
  },
  {
   "cell_type": "markdown",
   "metadata": {},
   "source": [
    "Let's compute some statistics on this dataset."
   ]
  },
  {
   "cell_type": "code",
   "execution_count": 277,
   "metadata": {},
   "outputs": [
    {
     "data": {
      "text/html": [
       "<div>\n",
       "<style scoped>\n",
       "    .dataframe tbody tr th:only-of-type {\n",
       "        vertical-align: middle;\n",
       "    }\n",
       "\n",
       "    .dataframe tbody tr th {\n",
       "        vertical-align: top;\n",
       "    }\n",
       "\n",
       "    .dataframe thead th {\n",
       "        text-align: right;\n",
       "    }\n",
       "</style>\n",
       "<table border=\"1\" class=\"dataframe\">\n",
       "  <thead>\n",
       "    <tr style=\"text-align: right;\">\n",
       "      <th></th>\n",
       "      <th>id</th>\n",
       "      <th>year</th>\n",
       "      <th>age</th>\n",
       "      <th>winner_seconds</th>\n",
       "      <th>second_seconds</th>\n",
       "      <th>third_seconds</th>\n",
       "      <th>average_speed</th>\n",
       "      <th>num_runners</th>\n",
       "      <th>total_length</th>\n",
       "      <th>num_stages</th>\n",
       "      <th>first_mountain_points</th>\n",
       "      <th>second_mountain_points</th>\n",
       "      <th>third_mountain_points</th>\n",
       "      <th>first_sprint_points</th>\n",
       "      <th>second_sprint_points</th>\n",
       "      <th>third_sprint_points</th>\n",
       "    </tr>\n",
       "  </thead>\n",
       "  <tbody>\n",
       "    <tr>\n",
       "      <th>count</th>\n",
       "      <td>107.000000</td>\n",
       "      <td>107.000000</td>\n",
       "      <td>107.000000</td>\n",
       "      <td>99.000000</td>\n",
       "      <td>99.000000</td>\n",
       "      <td>99.000000</td>\n",
       "      <td>107.000000</td>\n",
       "      <td>107.000000</td>\n",
       "      <td>107.000000</td>\n",
       "      <td>107.000000</td>\n",
       "      <td>79.000000</td>\n",
       "      <td>79.000000</td>\n",
       "      <td>78.000000</td>\n",
       "      <td>68.000000</td>\n",
       "      <td>68.000000</td>\n",
       "      <td>68.000000</td>\n",
       "    </tr>\n",
       "    <tr>\n",
       "      <th>mean</th>\n",
       "      <td>53.000000</td>\n",
       "      <td>1964.392523</td>\n",
       "      <td>27.962617</td>\n",
       "      <td>451461.979798</td>\n",
       "      <td>783.707071</td>\n",
       "      <td>1406.616162</td>\n",
       "      <td>34.307570</td>\n",
       "      <td>141.504673</td>\n",
       "      <td>4203.196262</td>\n",
       "      <td>20.448598</td>\n",
       "      <td>200.101266</td>\n",
       "      <td>146.848101</td>\n",
       "      <td>122.217949</td>\n",
       "      <td>293.007353</td>\n",
       "      <td>234.330882</td>\n",
       "      <td>209.375000</td>\n",
       "    </tr>\n",
       "    <tr>\n",
       "      <th>std</th>\n",
       "      <td>31.032241</td>\n",
       "      <td>34.406767</td>\n",
       "      <td>3.425557</td>\n",
       "      <td>149448.469803</td>\n",
       "      <td>1167.941790</td>\n",
       "      <td>2116.494236</td>\n",
       "      <td>5.257924</td>\n",
       "      <td>41.916443</td>\n",
       "      <td>702.088521</td>\n",
       "      <td>3.647779</td>\n",
       "      <td>118.945106</td>\n",
       "      <td>78.422114</td>\n",
       "      <td>71.093618</td>\n",
       "      <td>90.808495</td>\n",
       "      <td>81.320520</td>\n",
       "      <td>92.958881</td>\n",
       "    </tr>\n",
       "    <tr>\n",
       "      <th>min</th>\n",
       "      <td>0.000000</td>\n",
       "      <td>1903.000000</td>\n",
       "      <td>20.000000</td>\n",
       "      <td>295512.000000</td>\n",
       "      <td>8.000000</td>\n",
       "      <td>31.000000</td>\n",
       "      <td>24.056000</td>\n",
       "      <td>60.000000</td>\n",
       "      <td>2428.000000</td>\n",
       "      <td>6.000000</td>\n",
       "      <td>44.000000</td>\n",
       "      <td>36.000000</td>\n",
       "      <td>30.000000</td>\n",
       "      <td>74.000000</td>\n",
       "      <td>40.000000</td>\n",
       "      <td>36.000000</td>\n",
       "    </tr>\n",
       "    <tr>\n",
       "      <th>25%</th>\n",
       "      <td>26.500000</td>\n",
       "      <td>1933.500000</td>\n",
       "      <td>26.000000</td>\n",
       "      <td>332457.000000</td>\n",
       "      <td>178.500000</td>\n",
       "      <td>302.500000</td>\n",
       "      <td>30.089000</td>\n",
       "      <td>115.000000</td>\n",
       "      <td>3655.000000</td>\n",
       "      <td>20.500000</td>\n",
       "      <td>107.500000</td>\n",
       "      <td>78.500000</td>\n",
       "      <td>68.000000</td>\n",
       "      <td>241.750000</td>\n",
       "      <td>185.000000</td>\n",
       "      <td>148.750000</td>\n",
       "    </tr>\n",
       "    <tr>\n",
       "      <th>50%</th>\n",
       "      <td>53.000000</td>\n",
       "      <td>1967.000000</td>\n",
       "      <td>28.000000</td>\n",
       "      <td>412531.000000</td>\n",
       "      <td>362.000000</td>\n",
       "      <td>624.000000</td>\n",
       "      <td>35.474000</td>\n",
       "      <td>132.000000</td>\n",
       "      <td>4137.000000</td>\n",
       "      <td>21.000000</td>\n",
       "      <td>170.000000</td>\n",
       "      <td>130.000000</td>\n",
       "      <td>107.000000</td>\n",
       "      <td>280.000000</td>\n",
       "      <td>231.000000</td>\n",
       "      <td>195.500000</td>\n",
       "    </tr>\n",
       "    <tr>\n",
       "      <th>75%</th>\n",
       "      <td>79.500000</td>\n",
       "      <td>1993.500000</td>\n",
       "      <td>30.000000</td>\n",
       "      <td>513233.000000</td>\n",
       "      <td>866.000000</td>\n",
       "      <td>1484.500000</td>\n",
       "      <td>39.077500</td>\n",
       "      <td>180.000000</td>\n",
       "      <td>4649.000000</td>\n",
       "      <td>22.000000</td>\n",
       "      <td>275.000000</td>\n",
       "      <td>208.500000</td>\n",
       "      <td>163.750000</td>\n",
       "      <td>333.250000</td>\n",
       "      <td>272.250000</td>\n",
       "      <td>233.000000</td>\n",
       "    </tr>\n",
       "    <tr>\n",
       "      <th>max</th>\n",
       "      <td>106.000000</td>\n",
       "      <td>2020.000000</td>\n",
       "      <td>36.000000</td>\n",
       "      <td>859465.000000</td>\n",
       "      <td>6501.000000</td>\n",
       "      <td>12655.000000</td>\n",
       "      <td>41.654000</td>\n",
       "      <td>208.000000</td>\n",
       "      <td>5745.000000</td>\n",
       "      <td>27.000000</td>\n",
       "      <td>579.000000</td>\n",
       "      <td>328.000000</td>\n",
       "      <td>309.000000</td>\n",
       "      <td>613.000000</td>\n",
       "      <td>524.000000</td>\n",
       "      <td>553.000000</td>\n",
       "    </tr>\n",
       "  </tbody>\n",
       "</table>\n",
       "</div>"
      ],
      "text/plain": [
       "               id         year         age  winner_seconds  second_seconds  \\\n",
       "count  107.000000   107.000000  107.000000       99.000000       99.000000   \n",
       "mean    53.000000  1964.392523   27.962617   451461.979798      783.707071   \n",
       "std     31.032241    34.406767    3.425557   149448.469803     1167.941790   \n",
       "min      0.000000  1903.000000   20.000000   295512.000000        8.000000   \n",
       "25%     26.500000  1933.500000   26.000000   332457.000000      178.500000   \n",
       "50%     53.000000  1967.000000   28.000000   412531.000000      362.000000   \n",
       "75%     79.500000  1993.500000   30.000000   513233.000000      866.000000   \n",
       "max    106.000000  2020.000000   36.000000   859465.000000     6501.000000   \n",
       "\n",
       "       third_seconds  average_speed  num_runners  total_length  num_stages  \\\n",
       "count      99.000000     107.000000   107.000000    107.000000  107.000000   \n",
       "mean     1406.616162      34.307570   141.504673   4203.196262   20.448598   \n",
       "std      2116.494236       5.257924    41.916443    702.088521    3.647779   \n",
       "min        31.000000      24.056000    60.000000   2428.000000    6.000000   \n",
       "25%       302.500000      30.089000   115.000000   3655.000000   20.500000   \n",
       "50%       624.000000      35.474000   132.000000   4137.000000   21.000000   \n",
       "75%      1484.500000      39.077500   180.000000   4649.000000   22.000000   \n",
       "max     12655.000000      41.654000   208.000000   5745.000000   27.000000   \n",
       "\n",
       "       first_mountain_points  second_mountain_points  third_mountain_points  \\\n",
       "count              79.000000               79.000000              78.000000   \n",
       "mean              200.101266              146.848101             122.217949   \n",
       "std               118.945106               78.422114              71.093618   \n",
       "min                44.000000               36.000000              30.000000   \n",
       "25%               107.500000               78.500000              68.000000   \n",
       "50%               170.000000              130.000000             107.000000   \n",
       "75%               275.000000              208.500000             163.750000   \n",
       "max               579.000000              328.000000             309.000000   \n",
       "\n",
       "       first_sprint_points  second_sprint_points  third_sprint_points  \n",
       "count            68.000000             68.000000            68.000000  \n",
       "mean            293.007353            234.330882           209.375000  \n",
       "std              90.808495             81.320520            92.958881  \n",
       "min              74.000000             40.000000            36.000000  \n",
       "25%             241.750000            185.000000           148.750000  \n",
       "50%             280.000000            231.000000           195.500000  \n",
       "75%             333.250000            272.250000           233.000000  \n",
       "max             613.000000            524.000000           553.000000  "
      ]
     },
     "execution_count": 277,
     "metadata": {},
     "output_type": "execute_result"
    }
   ],
   "source": [
    "df.describe()"
   ]
  },
  {
   "cell_type": "markdown",
   "metadata": {},
   "source": [
    "Each piece of information does not necessarily make sense. But we can get some insights looking at those number. For example, we can see that the average age of the winners of the Tour de France throughout its history is 28 years old. The youngest winner of the Tour de France was 20 years old and the oldest was 36 years old.\n",
    "\n",
    "The average speed is 34 km/h but the fastest average speed is 41.6 km/h which is quite a big gap as the standard deviation illustrates it (5.257)."
   ]
  },
  {
   "cell_type": "markdown",
   "metadata": {},
   "source": [
    "### Exploring the evolution of performances"
   ]
  },
  {
   "cell_type": "markdown",
   "metadata": {},
   "source": [
    "The first thing we want to look at is the evolution of performances over time. We can simply plot a graph that illustrates the way the average speed increased over time."
   ]
  },
  {
   "cell_type": "code",
   "execution_count": 284,
   "metadata": {},
   "outputs": [
    {
     "data": {
      "text/plain": [
       "<matplotlib.axes._subplots.AxesSubplot at 0x2389c03b308>"
      ]
     },
     "execution_count": 284,
     "metadata": {},
     "output_type": "execute_result"
    },
    {
     "data": {
      "image/png": "[encoded data removed]",
      "text/plain": [
       "<Figure size 432x288 with 1 Axes>"
      ]
     },
     "metadata": {
      "needs_background": "light"
     },
     "output_type": "display_data"
    }
   ],
   "source": [
    "import seaborn as sns\n",
    "sns.lineplot(y=df[\"average_speed\"], x=df[\"year\"], data=df)"
   ]
  },
  {
   "cell_type": "markdown",
   "metadata": {},
   "source": [
    "We can make some easy calculations to plot the difference between the first, second and third runners of the Tour de France.\n",
    "\n",
    "If we divide the total length of all the stages in one edition by the total time took to complete them and multiplying that number by 3600 (60 secondes in 1 minute, 60 minutes in 1 hour), we will get the average speed of the runners for each edition."
   ]
  },
  {
   "cell_type": "code",
   "execution_count": 292,
   "metadata": {},
   "outputs": [
    {
     "data": {
      "text/plain": [
       "0      25.678478\n",
       "1      25.276120\n",
       "2            NaN\n",
       "3            NaN\n",
       "4            NaN\n",
       "         ...    \n",
       "102    39.616075\n",
       "103    40.996606\n",
       "104    40.234397\n",
       "105    40.578662\n",
       "106    39.892495\n",
       "Length: 107, dtype: float64"
      ]
     },
     "execution_count": 292,
     "metadata": {},
     "output_type": "execute_result"
    }
   ],
   "source": [
    "winner_ave_speed = df[\"total_length\"] / df[\"winner_seconds\"] * 3600\n",
    "winner_ave_speed"
   ]
  },
  {
   "cell_type": "markdown",
   "metadata": {},
   "source": [
    "Now, as the second and third runners chrono represents how late they are compared to the winner, we want to add that number to the chrono of the winner and then, do the same calculation."
   ]
  },
  {
   "cell_type": "code",
   "execution_count": 294,
   "metadata": {},
   "outputs": [
    {
     "data": {
      "text/plain": [
       "0      25.674330\n",
       "1      25.247803\n",
       "2            NaN\n",
       "3            NaN\n",
       "4            NaN\n",
       "         ...    \n",
       "102    39.585833\n",
       "103    40.989486\n",
       "104    40.219508\n",
       "105    40.569016\n",
       "106    39.885011\n",
       "Length: 107, dtype: float64"
      ]
     },
     "execution_count": 294,
     "metadata": {},
     "output_type": "execute_result"
    }
   ],
   "source": [
    "second_ave_speed = (df[\"total_length\"] / (df[\"second_seconds\"] + df[\"winner_seconds\"])) * 3600\n",
    "second_ave_speed"
   ]
  },
  {
   "cell_type": "markdown",
   "metadata": {},
   "source": [
    "Let's do the same thing with the third runner."
   ]
  },
  {
   "cell_type": "code",
   "execution_count": 296,
   "metadata": {},
   "outputs": [
    {
     "data": {
      "text/plain": [
       "0      25.521106\n",
       "1      24.798507\n",
       "2            NaN\n",
       "3            NaN\n",
       "4            NaN\n",
       "         ...    \n",
       "102    39.583859\n",
       "103    40.978151\n",
       "104    40.215083\n",
       "105    40.566300\n",
       "106    39.865868\n",
       "Length: 107, dtype: float64"
      ]
     },
     "execution_count": 296,
     "metadata": {},
     "output_type": "execute_result"
    }
   ],
   "source": [
    "third_ave_speed = (df[\"total_length\"] / (df[\"third_seconds\"] + df[\"winner_seconds\"])) * 3600\n",
    "third_ave_speed"
   ]
  },
  {
   "cell_type": "markdown",
   "metadata": {},
   "source": [
    "Now that we have calculated those values, we can build a new DataFrame from them."
   ]
  },
  {
   "cell_type": "code",
   "execution_count": 298,
   "metadata": {},
   "outputs": [
    {
     "data": {
      "text/html": [
       "<div>\n",
       "<style scoped>\n",
       "    .dataframe tbody tr th:only-of-type {\n",
       "        vertical-align: middle;\n",
       "    }\n",
       "\n",
       "    .dataframe tbody tr th {\n",
       "        vertical-align: top;\n",
       "    }\n",
       "\n",
       "    .dataframe thead th {\n",
       "        text-align: right;\n",
       "    }\n",
       "</style>\n",
       "<table border=\"1\" class=\"dataframe\">\n",
       "  <thead>\n",
       "    <tr style=\"text-align: right;\">\n",
       "      <th></th>\n",
       "      <th>year</th>\n",
       "      <th>first</th>\n",
       "      <th>second</th>\n",
       "      <th>third</th>\n",
       "    </tr>\n",
       "  </thead>\n",
       "  <tbody>\n",
       "    <tr>\n",
       "      <th>0</th>\n",
       "      <td>1903</td>\n",
       "      <td>25.678478</td>\n",
       "      <td>25.674330</td>\n",
       "      <td>25.521106</td>\n",
       "    </tr>\n",
       "    <tr>\n",
       "      <th>1</th>\n",
       "      <td>1904</td>\n",
       "      <td>25.276120</td>\n",
       "      <td>25.247803</td>\n",
       "      <td>24.798507</td>\n",
       "    </tr>\n",
       "    <tr>\n",
       "      <th>2</th>\n",
       "      <td>1905</td>\n",
       "      <td>NaN</td>\n",
       "      <td>NaN</td>\n",
       "      <td>NaN</td>\n",
       "    </tr>\n",
       "    <tr>\n",
       "      <th>3</th>\n",
       "      <td>1906</td>\n",
       "      <td>NaN</td>\n",
       "      <td>NaN</td>\n",
       "      <td>NaN</td>\n",
       "    </tr>\n",
       "    <tr>\n",
       "      <th>4</th>\n",
       "      <td>1907</td>\n",
       "      <td>NaN</td>\n",
       "      <td>NaN</td>\n",
       "      <td>NaN</td>\n",
       "    </tr>\n",
       "    <tr>\n",
       "      <th>...</th>\n",
       "      <td>...</td>\n",
       "      <td>...</td>\n",
       "      <td>...</td>\n",
       "      <td>...</td>\n",
       "    </tr>\n",
       "    <tr>\n",
       "      <th>102</th>\n",
       "      <td>2016</td>\n",
       "      <td>39.616075</td>\n",
       "      <td>39.585833</td>\n",
       "      <td>39.583859</td>\n",
       "    </tr>\n",
       "    <tr>\n",
       "      <th>103</th>\n",
       "      <td>2017</td>\n",
       "      <td>40.996606</td>\n",
       "      <td>40.989486</td>\n",
       "      <td>40.978151</td>\n",
       "    </tr>\n",
       "    <tr>\n",
       "      <th>104</th>\n",
       "      <td>2018</td>\n",
       "      <td>40.234397</td>\n",
       "      <td>40.219508</td>\n",
       "      <td>40.215083</td>\n",
       "    </tr>\n",
       "    <tr>\n",
       "      <th>105</th>\n",
       "      <td>2019</td>\n",
       "      <td>40.578662</td>\n",
       "      <td>40.569016</td>\n",
       "      <td>40.566300</td>\n",
       "    </tr>\n",
       "    <tr>\n",
       "      <th>106</th>\n",
       "      <td>2020</td>\n",
       "      <td>39.892495</td>\n",
       "      <td>39.885011</td>\n",
       "      <td>39.865868</td>\n",
       "    </tr>\n",
       "  </tbody>\n",
       "</table>\n",
       "<p>107 rows × 4 columns</p>\n",
       "</div>"
      ],
      "text/plain": [
       "     year      first     second      third\n",
       "0    1903  25.678478  25.674330  25.521106\n",
       "1    1904  25.276120  25.247803  24.798507\n",
       "2    1905        NaN        NaN        NaN\n",
       "3    1906        NaN        NaN        NaN\n",
       "4    1907        NaN        NaN        NaN\n",
       "..    ...        ...        ...        ...\n",
       "102  2016  39.616075  39.585833  39.583859\n",
       "103  2017  40.996606  40.989486  40.978151\n",
       "104  2018  40.234397  40.219508  40.215083\n",
       "105  2019  40.578662  40.569016  40.566300\n",
       "106  2020  39.892495  39.885011  39.865868\n",
       "\n",
       "[107 rows x 4 columns]"
      ]
     },
     "execution_count": 298,
     "metadata": {},
     "output_type": "execute_result"
    }
   ],
   "source": [
    "ave_speeds = pd.DataFrame({\"year\": df[\"year\"], \"first\": winner_ave_speed, \"second\": second_ave_speed, \"third\": third_ave_speed})\n",
    "ave_speeds"
   ]
  },
  {
   "cell_type": "markdown",
   "metadata": {},
   "source": [
    "Now, let's plot the data to compare them."
   ]
  },
  {
   "cell_type": "code",
   "execution_count": null,
   "metadata": {},
   "outputs": [],
   "source": [
    "plt.figure()\n",
    "sns.lineplot()"
   ]
  }
 ],
 "metadata": {
  "kernelspec": {
   "display_name": "Python 3",
   "language": "python",
   "name": "python3"
  },
  "language_info": {
   "codemirror_mode": {
    "name": "ipython",
    "version": 3
   },
   "file_extension": ".py",
   "mimetype": "text/x-python",
   "name": "python",
   "nbconvert_exporter": "python",
   "pygments_lexer": "ipython3",
   "version": "3.7.6"
  }
 },
 "nbformat": 4,
 "nbformat_minor": 4
}
