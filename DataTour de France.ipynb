{
 "cells": [
  {
   "cell_type": "markdown",
   "metadata": {},
   "source": [
    "# DataTour de France"
   ]
  },
  {
   "cell_type": "markdown",
   "metadata": {},
   "source": [
    "## Collecting global data "
   ]
  },
  {
   "cell_type": "markdown",
   "metadata": {},
   "source": [
    "As a first step, we will collect general data about the Tour de France. We'll store this data in a pandas DataFrame so we can use well formated data later on for our analysis.\n",
    "\n",
    "In that purpose, we will scrape data from several websites and aggregate it into a single DataFrame. We will use **BeautifulSoup** which is a Python module used to parse HTML and XML files."
   ]
  },
  {
   "cell_type": "code",
   "execution_count": 116,
   "metadata": {},
   "outputs": [],
   "source": [
    "from bs4 import BeautifulSoup\n",
    "import re\n",
    "import math\n",
    "import requests\n",
    "import numpy as np\n",
    "import pandas as pd"
   ]
  },
  {
   "cell_type": "code",
   "execution_count": 117,
   "metadata": {},
   "outputs": [],
   "source": [
    "r = requests.get(\"http://bikeraceinfo.com/tdf/tdfindex.html\")\n",
    "soup = BeautifulSoup(r.text, \"lxml\")\n",
    "table = soup.find(\"table\")"
   ]
  },
  {
   "cell_type": "markdown",
   "metadata": {},
   "source": [
    "Let's build a dictionary we will use later to feed our DataFrame."
   ]
  },
  {
   "cell_type": "code",
   "execution_count": 118,
   "metadata": {},
   "outputs": [],
   "source": [
    "metadata = {\"year\": [], \"winner\": [], \"second\": [], \"third\": [], \"winner_origin\": [], \"winning_team\": []}"
   ]
  },
  {
   "cell_type": "markdown",
   "metadata": {},
   "source": [
    "### Retrieve each year the Tour de France took place"
   ]
  },
  {
   "cell_type": "markdown",
   "metadata": {},
   "source": [
    "[This web page](http://bikeraceinfo.com/tdf/tdfindex.html) stores every general information about each year the Tour de France took place. We'll scrape it step by step to retrive all the data it stores."
   ]
  },
  {
   "cell_type": "code",
   "execution_count": 119,
   "metadata": {},
   "outputs": [
    {
     "name": "stdout",
     "output_type": "stream",
     "text": [
      "1915-1918 World War I, no Tours held\n",
      "1940-1946 World War II, no Tours held \n",
      "2020V\n"
     ]
    }
   ],
   "source": [
    "regex = re.compile(r\"[0-9]{4}$\")\n",
    "\n",
    "for sib in table.tr.next_siblings:\n",
    "    try:\n",
    "        y = sib.td.text\n",
    "        if re.match(regex, sib.td.text) != None:\n",
    "            metadata[\"year\"].append(y)\n",
    "        else:\n",
    "            # We want to get rid off the years that the Tour de France did not take place\n",
    "            print(sib.td.text)\n",
    "    except AttributeError:\n",
    "        pass"
   ]
  },
  {
   "cell_type": "markdown",
   "metadata": {},
   "source": [
    "### Retrieve every winner of the Tour de France"
   ]
  },
  {
   "cell_type": "markdown",
   "metadata": {},
   "source": [
    "Next, we want to move to the next column and retrieve each winner. The cell stores additional data that we need to clean a little bit further if we want to use it for some further analysis."
   ]
  },
  {
   "cell_type": "code",
   "execution_count": 120,
   "metadata": {},
   "outputs": [],
   "source": [
    "def remove_backspace(text):\n",
    "    regex = re.compile(r\"[\\n\\t]\")\n",
    "    text = regex.sub(\"\", text)\n",
    "    return text"
   ]
  },
  {
   "cell_type": "code",
   "execution_count": 121,
   "metadata": {},
   "outputs": [],
   "source": [
    "for sib in table.tr.next_siblings:\n",
    "    try:\n",
    "        t = sib.td.next_sibling.next_sibling.get_text()\n",
    "        metadata[\"winner\"].append(remove_backspace(t))\n",
    "    except AttributeError:\n",
    "        pass"
   ]
  },
  {
   "cell_type": "code",
   "execution_count": 122,
   "metadata": {},
   "outputs": [],
   "source": [
    "# Let's remove a non-necessary line\n",
    "del metadata[\"winner\"][-2]"
   ]
  },
  {
   "cell_type": "markdown",
   "metadata": {},
   "source": [
    "### Retrieve each participant that achieved the second place"
   ]
  },
  {
   "cell_type": "code",
   "execution_count": 123,
   "metadata": {},
   "outputs": [],
   "source": [
    "for sib in table.tr.next_siblings:\n",
    "    try:\n",
    "        t = sib.find_all(\"td\")\n",
    "        # Because the table does not have the same number of cells when the Tour did not take place\n",
    "        try:\n",
    "            sec = t[3].get_text(strip=True)\n",
    "            metadata[\"second\"].append(sec)\n",
    "        except IndexError:\n",
    "            pass\n",
    "    except AttributeError:\n",
    "        pass"
   ]
  },
  {
   "cell_type": "code",
   "execution_count": 124,
   "metadata": {},
   "outputs": [],
   "source": [
    "# Let's remove a non-necessary line\n",
    "del metadata[\"second\"][-2]"
   ]
  },
  {
   "cell_type": "markdown",
   "metadata": {},
   "source": [
    "### Retrieve each participant that achieved the third place"
   ]
  },
  {
   "cell_type": "code",
   "execution_count": 125,
   "metadata": {},
   "outputs": [],
   "source": [
    "for sib in table.tr.next_siblings:\n",
    "    try:\n",
    "        t = sib.find_all(\"td\")\n",
    "        # Because the table does not have the same number of cells when the Tour did not take place\n",
    "        try:\n",
    "            thd = t[4].get_text(strip=True)\n",
    "            metadata[\"third\"].append(thd)\n",
    "        except IndexError:\n",
    "            pass\n",
    "    except AttributeError:\n",
    "        pass"
   ]
  },
  {
   "cell_type": "code",
   "execution_count": 126,
   "metadata": {},
   "outputs": [],
   "source": [
    "# Let's remove a non-necessary line\n",
    "del metadata[\"third\"][-2]"
   ]
  },
  {
   "cell_type": "markdown",
   "metadata": {},
   "source": [
    "### Retrieve each winning team (It is the team to which the yellow jersey belongs to)"
   ]
  },
  {
   "cell_type": "code",
   "execution_count": 127,
   "metadata": {},
   "outputs": [
    {
     "name": "stdout",
     "output_type": "stream",
     "text": [
      "90 USAUS Postal\n",
      "91 USADiscovery\n",
      "92 SpainCaissed'Epargne\n",
      "93 SpainDiscovery\n",
      "94 SpainCSC-Saxo Bank\n",
      "95 SpainAstana\n",
      "96 LuxembourgSaxo Bank\n",
      "97 AustraliaBMC\n",
      "98 Great BritainSky\n",
      "99 Great BritainSky\n",
      "100 ItalyAstana\n",
      "101 Great BritainSky\n",
      "102 Great BritainSky\n",
      "103 Great BritainSky\n",
      "104 Great BritainSky\n",
      "105 ColombiaINEOS\n",
      "106 \n",
      "107 SloveniaUAE-Team Emirates\n"
     ]
    }
   ],
   "source": [
    "for i, sib in enumerate(table.tr.next_siblings):\n",
    "    try:\n",
    "        t = sib.find_all(\"td\")\n",
    "        # Because the table does not have the same number of cells when the Tour did not take place\n",
    "        try:\n",
    "            team = t[2].get_text(strip=True)\n",
    "            if \",\" in team:\n",
    "                te = team.split(\",\")\n",
    "                metadata[\"winner_origin\"].append(te[0])\n",
    "                metadata[\"winning_team\"].append(te[1])\n",
    "            else:\n",
    "                print(math.ceil(i/2-3), team)\n",
    "        except IndexError:\n",
    "            pass\n",
    "    except AttributeError:\n",
    "        pass"
   ]
  },
  {
   "cell_type": "markdown",
   "metadata": {},
   "source": [
    "Because the rest of the dataset is not really well formated, let's add the final data manually."
   ]
  },
  {
   "cell_type": "code",
   "execution_count": 128,
   "metadata": {},
   "outputs": [],
   "source": [
    "metadata[\"winner_origin\"].append(\"USA\")\n",
    "metadata[\"winning_team\"].append(\"US Postal\")"
   ]
  },
  {
   "cell_type": "code",
   "execution_count": 129,
   "metadata": {},
   "outputs": [],
   "source": [
    "metadata[\"winner_origin\"].append(\"USA\")\n",
    "metadata[\"winning_team\"].append(\"Discovery\")"
   ]
  },
  {
   "cell_type": "code",
   "execution_count": 130,
   "metadata": {},
   "outputs": [],
   "source": [
    "metadata[\"winner_origin\"].append(\"Spain\")\n",
    "metadata[\"winning_team\"].append(\"Caisse d'Epargne\")"
   ]
  },
  {
   "cell_type": "code",
   "execution_count": 131,
   "metadata": {},
   "outputs": [],
   "source": [
    "metadata[\"winner_origin\"].append(\"Spain\")\n",
    "metadata[\"winning_team\"].append(\"Discovery\")"
   ]
  },
  {
   "cell_type": "code",
   "execution_count": 132,
   "metadata": {},
   "outputs": [],
   "source": [
    "metadata[\"winner_origin\"].append(\"Spain\")\n",
    "metadata[\"winning_team\"].append(\"CSC-Saxo Bank\")"
   ]
  },
  {
   "cell_type": "code",
   "execution_count": 133,
   "metadata": {},
   "outputs": [],
   "source": [
    "metadata[\"winner_origin\"].append(\"Spain\")\n",
    "metadata[\"winning_team\"].append(\"Astana\")"
   ]
  },
  {
   "cell_type": "code",
   "execution_count": 134,
   "metadata": {},
   "outputs": [],
   "source": [
    "metadata[\"winner_origin\"].append(\"Luxembourg\")\n",
    "metadata[\"winning_team\"].append(\"Saxo Bank\")"
   ]
  },
  {
   "cell_type": "code",
   "execution_count": 135,
   "metadata": {},
   "outputs": [],
   "source": [
    "metadata[\"winner_origin\"].append(\"Australia\")\n",
    "metadata[\"winning_team\"].append(\"BMC\")"
   ]
  },
  {
   "cell_type": "code",
   "execution_count": 136,
   "metadata": {},
   "outputs": [],
   "source": [
    "for i in range(98, 105):\n",
    "    metadata[\"winner_origin\"].append(\"Great Britain\")\n",
    "    metadata[\"winning_team\"].append(\"Sky\")"
   ]
  },
  {
   "cell_type": "code",
   "execution_count": 137,
   "metadata": {},
   "outputs": [],
   "source": [
    "metadata[\"winner_origin\"].append(\"Columbia\")\n",
    "metadata[\"winning_team\"].append(\"INEOS\")"
   ]
  },
  {
   "cell_type": "code",
   "execution_count": 138,
   "metadata": {},
   "outputs": [],
   "source": [
    "metadata[\"winner_origin\"].append(\"Slovenia\")\n",
    "metadata[\"winning_team\"].append(\"UAE-Team Emirates\")"
   ]
  },
  {
   "cell_type": "code",
   "execution_count": 139,
   "metadata": {},
   "outputs": [
    {
     "name": "stdout",
     "output_type": "stream",
     "text": [
      "107\n",
      "107\n",
      "107\n",
      "107\n",
      "107\n",
      "107\n"
     ]
    }
   ],
   "source": [
    "for key, val in metadata.items():\n",
    "    print(len(metadata[key]))"
   ]
  },
  {
   "cell_type": "code",
   "execution_count": 140,
   "metadata": {},
   "outputs": [],
   "source": [
    "df = pd.DataFrame(metadata)"
   ]
  },
  {
   "cell_type": "markdown",
   "metadata": {},
   "source": [
    "## Let's add some new fields in our metadata dictionary"
   ]
  },
  {
   "cell_type": "markdown",
   "metadata": {},
   "source": [
    "Before we move on, we want to add some new fields in our `metadata` dictionary. We will use them later to feed our DataFrame with new data sources"
   ]
  },
  {
   "cell_type": "code",
   "execution_count": 449,
   "metadata": {},
   "outputs": [],
   "source": [
    "metadata[\"winner_chrono\"] = []\n",
    "metadata[\"winner_timedelta\"] = []"
   ]
  },
  {
   "cell_type": "markdown",
   "metadata": {},
   "source": [
    "### Let's clean up a little bit some columns"
   ]
  },
  {
   "cell_type": "markdown",
   "metadata": {},
   "source": [
    "#### Retrieve age of winners"
   ]
  },
  {
   "cell_type": "markdown",
   "metadata": {},
   "source": [
    "Our \"winner\" column contains more information but it is kind of messy. Let's try to clean it a little bit more. First, we'll start by retrieving the age of the winner. We'll use a simple regular expression for that : by scanning through the dataset, there is only one suspicious data, being 14 years old. This seems kind of young to win the Tour de France. By inspecting it closer, it looks like there is some missing data for that year. We'll replace it manually."
   ]
  },
  {
   "cell_type": "code",
   "execution_count": 450,
   "metadata": {},
   "outputs": [],
   "source": [
    "def get_age(text):\n",
    "    regex = re.compile(r\"\\d{2}\")\n",
    "    find = re.search(regex, text)\n",
    "    return find.group()"
   ]
  },
  {
   "cell_type": "code",
   "execution_count": 451,
   "metadata": {},
   "outputs": [
    {
     "name": "stdout",
     "output_type": "stream",
     "text": [
      "0 32 Garin, Maurice, 3293hr 33min 14sec\n",
      "1 20 Cornet, Henri, 2096hr 5min 55sec\n",
      "2 24 Trousselier, Louis, 2435 points\n",
      "3 27 Pottier, René, 2731 points\n",
      "4 24 Petit-Breton, Lucien, 2447 points\n",
      "5 25 Petit-Breton, Lucien, 2536 points\n",
      "6 22 Faber, François, 2237 points\n",
      "7 22 Lapize, Octave, 2263 points\n",
      "8 29 Garrigou, Gustave, 2943 points\n",
      "9 24 Defraye, Odile, 2449 points\n",
      "10 23 Thys, Philippe, 23197hr 54min 0sec\n",
      "11 24 Thys, Philippe, 24200hr 28min 49sec\n",
      "12 33 Lambot, Firmin, 33231hr 7min 15sec\n",
      "13 30 Thys, Philippe, 30228hr 36min 13sec\n",
      "14 33 Scieur, Léon 33221hr 36min 0sec\n",
      "15 36 Lambot, Firmin, 36222hr 8min 6sec\n",
      "16 34 Pélissier, Henri, 34222hr 15min 30sec\n",
      "17 30 Bottecchia, Ottavio, 30226hr 18min 21sec\n",
      "18 31 Bottecchia, Ottavio, 31219hr 10min 18sec\n",
      "19 33 Buysse, Lucien, 33238hr 44min 25sec\n",
      "20 28 Frantz, Nicolas, 28198hr 16min 42sec\n",
      "21 29 Frantz, Nicolas, 29192hr 48min 58sec \n",
      "22 33 De Waele, Maurice, 33186hr 39min 16sec\n",
      "23 26 Leducq, André, 26172hr 12min 16sec\n",
      "24 27 Magne, Antonin, 27177hr 10min 3sec\n",
      "25 28 Leducq, André, 28154hr 11min 49sec \n",
      "26 26 Speicher, Georges, 26147hr 51min 37sec\n",
      "27 30 Magne, Antonin, 30147hr 13min 58sec\n",
      "28 22 Maes, Romain, 22141hr 32min 0sec\n",
      "29 27 Maes, Sylvère, 27142hr 47min 32sec\n",
      "30 26 Lapébie, Roger, 26138hr 58min 31sec\n",
      "31 14 Bartali, Gino148min 29min 12sec\n",
      "32 30 Maes, Sylvère, 30132hr 3min 17sec\n",
      "33 26 Robic, Jean, 26148hr 11min 25sec\n",
      "34 34 Bartali, Gino, 34147hr 10min 36sec\n",
      "35 29 Coppi, Fausto, 29149min 40sec 49min\n",
      "36 31 Kübler, Ferdy, 31145hr 36min 56sec\n",
      "37 26 Koblet, Hugo, 26142hr 20min 14sec\n",
      "38 32 Coppi, Fausto, 32151hr 57min 20sec\n",
      "39 28 Bobet, Louison, 28129hr 23min 25sec\n",
      "40 29 Bobet, Louison, 29140hr 6min 5sec\n",
      "41 30 Bobet, Louison, 30130hr 29min 26sec\n",
      "42 29 Walkowiak, Roger, 29124hr 1min 16sec\n",
      "43 23 Anquetil, Jacques, 23135hr 44min 42sec\n",
      "44 26 Gaul, Charly, 26116hr 59min 5sec\n",
      "45 31 Bahamontes, Federico,31; 123hr 46min 45sec\n",
      "46 30 Nencini, Gastone, 30112hr 8min 42sec\n",
      "47 27 Anquetil, Jacques, 27122hr 1min 33sec\n",
      "48 28 Anquetil, Jacques, 28114hr 31min 54sec\n",
      "49 29 Anquetil, Jacques, 29113hr 30min 5sec\n",
      "50 30 Anquetil, Jacques, 30127hr 9min 44sec\n",
      "51 23 Gimondi, Felice, 23116hr 42min 6sec\n",
      "52 25 Aimar, Lucien, 25117hr 34min 21sec\n",
      "53 27 Pingeon, Roger, 27136hr 53min 50sec\n",
      "54 28 Janssen, Jan, 28133hr 49min 32sec\n",
      "55 24 Merckx, Eddy, 24116hr 16min 2sec\n",
      "56 25 Merckx, Eddy, 25119hr 31min 49sec\n",
      "57 26 Merckx, Eddy, 2696hr 45min 14sec\n",
      "58 27 Merckx, Eddy, 27108hr 17min 18sec\n",
      "59 28 Ocaña, Luis, 28122hr 25min 34sec\n",
      "60 29 Merckx, Eddy, 29116hr 16min 58sec\n",
      "61 29 Thévenet, Bernard, 29114hr 35min 31sec\n",
      "62 29 van Impe, Lucien, 29116hr 22min 23sec\n",
      "63 29 Thévenet, Bernard, 29115hr 38min 30sec\n",
      "64 23 Hinault, Bernard, 23108hr 18min 0sec\n",
      "65 24 Hinault, Bernard, 24103hr 6min 50sec\n",
      "66 33 Zoetemelk, Joop, 33109hr 19min 14sec\n",
      "67 26 Hinault, Bernard, 2696hr 19min 38sec\n",
      "68 27 Hinault, Bernard, 2792hr 8min 46sec\n",
      "69 22 Fignon, Laurent, 22105hr 7min 52sec\n",
      "70 23 Fignon, Laurent, 23112hr 3min 40sec\n",
      "71 30 Hinault, Bernard, 30113hr 24min 23sec\n",
      "72 25 LeMond, Greg, 25110hr 35min 19sec\n",
      "73 27 Roche, Stephen, 27115hr 27min 42sec\n",
      "74 28 Delgado, Pedro, 2884min 27min 53sec\n",
      "75 28 LeMond, Greg, 2887hr 38min 35sec\n",
      "76 29 LeMond, Greg, 2990hr 43min 20sec\n",
      "77 27 Induráin, Miguel, 27101hr 1min 20sec\n",
      "78 28 Induráin, Miguel, 28100hr 49min 30sec\n",
      "79 29 Induráin, Miguel, 2995hr 57min 9sec\n",
      "80 30 Induráin, Miguel  30  103hr 38min 38sec\n",
      "81 31 Induráin, Miguel, 3192hr 44min 59sec\n",
      "82 32 Riis, Bjarne, 3295hr 57min 16sec\n",
      "83 23 Ullrich, Jan, 23100hr 30min 35sec\n",
      "84 28 Pantani, Marco, 2892hr 49min 46sec\n",
      "85 27 Armstrong, Lance, 2791hr 32min 16sec\n",
      "86 28 Armstrong, Lance, 2892hr 33min 8sec\n",
      "87 29 Armstrong, Lance, 2986hr 17min 28sec\n",
      "88 30 Armstrong, Lance, 3082hr 5min 12sec\n",
      "89 31 Armstrong, Lance, 3183hr 41min 12sec\n",
      "90 32 Armstrong, Lance, 3283hr 36min 2sec\n",
      "91 33 Armstrong, Lance, 3386hr 15min 2sec  \n",
      "92 30 Óscar Pereiro, 3089hr 40min 27sec  Floyd Landis, before DQ                                                                          89hr 39min 30sec\n",
      "93 24 Alberto Contador, 2491hr 00min 26sec\n",
      "94 33 Carlos Sastre, 3387hr 52min 52sec\n",
      "95 26 Alberto Contador, 2685hr 48min 35sec\n",
      "96 91 Alberto  Contador91hr 58min 48sec        Andy Schleck, 25            91hr 59min 27sec\n",
      "97 34 Cadel Evans, 34      86hr 12min 22sec\n",
      "98 32 Bradley Wiggins, 32      87hr 34min 47sec\n",
      "99 28 Christopher Froome, 28      83hr 56min 40sec\n",
      "100 29 Vincenzo Nibali, 29      89hr 59min 6sec\n",
      "101 30 Christopher Froome, 30      84hr 46min 14sec\n",
      "102 31 Christopher Froome, 31      89hr 4min 48sec\n",
      "103 32 Christopher Froome, 32      86hr 20min 55sec\n",
      "104 32 Geraint Thomas, 32      83hr 17min 13sec\n",
      "105 22 Egan Bernal, 22      82hr 57min 0sec\n",
      "106 20 Tadej Pogacar, 20      87hr 20min 5sec\n"
     ]
    }
   ],
   "source": [
    "list_age = []\n",
    "\n",
    "for i, win in enumerate(df[\"winner\"]):\n",
    "    age = get_age(win)\n",
    "    list_age.append(age)\n",
    "    print(i, age, df[\"winner\"][i])"
   ]
  },
  {
   "cell_type": "code",
   "execution_count": 452,
   "metadata": {},
   "outputs": [],
   "source": [
    "# Let's modify manually the missing value\n",
    "list_age[31] = 24"
   ]
  },
  {
   "cell_type": "code",
   "execution_count": 453,
   "metadata": {},
   "outputs": [],
   "source": [
    "# Finally, let's add the data to our DataFrame\n",
    "df[\"age\"] = list_age"
   ]
  },
  {
   "cell_type": "markdown",
   "metadata": {},
   "source": [
    "#### Retrieve winners' chrono"
   ]
  },
  {
   "cell_type": "markdown",
   "metadata": {},
   "source": [
    "The winner's column contains information about their total chrono : how much time did it take them to go from the first stage to the last. We want to store that information in a dedicated column, that might be helpful later on if we want to calculate the performance of each winner."
   ]
  },
  {
   "cell_type": "code",
   "execution_count": 454,
   "metadata": {},
   "outputs": [],
   "source": [
    "def get_chrono(text):\n",
    "    regex = re.compile(r\"(?<=\\d{2}).+\")\n",
    "    find = re.search(regex, text)\n",
    "    return find.group()"
   ]
  },
  {
   "cell_type": "code",
   "execution_count": 455,
   "metadata": {},
   "outputs": [
    {
     "data": {
      "text/plain": [
       "'Frantz, Nicolas, 29192hr 48min 58sec '"
      ]
     },
     "execution_count": 455,
     "metadata": {},
     "output_type": "execute_result"
    }
   ],
   "source": [
    "df.iloc[21][\"winner\"].replace(\"\\xa0\", \" \")"
   ]
  },
  {
   "cell_type": "code",
   "execution_count": 456,
   "metadata": {},
   "outputs": [],
   "source": [
    "for i, win in enumerate(df[\"winner\"]):\n",
    "    chrono = get_chrono(win)\n",
    "    # Replace non-breaking spaces\n",
    "    chrono = chrono.replace(\"\\xa0\", \" \")\n",
    "    # Handling one badly formated cell\n",
    "    chrono = chrono.replace(\"; \", \"\")\n",
    "    try:\n",
    "        delta = pd.to_timedelta(chrono)\n",
    "        metadata[\"winner_chrono\"].append(chrono)\n",
    "        metadata[\"winner_timedelta\"].append(delta)\n",
    "    except ValueError:\n",
    "        metadata[\"winner_chrono\"].append(np.nan)\n",
    "        metadata[\"winner_timedelta\"].append(np.nan)"
   ]
  },
  {
   "cell_type": "markdown",
   "metadata": {},
   "source": [
    "Because some of the data that represents the winner's time are not properly formated or even sometimes wrong, we will correct those piece of data manually."
   ]
  },
  {
   "cell_type": "code",
   "execution_count": 457,
   "metadata": {},
   "outputs": [],
   "source": [
    "df[\"winner_chrono\"] = metadata[\"winner_chrono\"]\n",
    "df[\"winner_timedelta\"] = metadata[\"winner_timedelta\"]"
   ]
  },
  {
   "cell_type": "code",
   "execution_count": 458,
   "metadata": {},
   "outputs": [],
   "source": [
    "df.at[0, \"winner_chrono\"] = \"94hr 33min 14sec\"\n",
    "df.at[0, \"winner_timedelta\"] = pd.to_timedelta(\"94hr 33min 14sec\")"
   ]
  },
  {
   "cell_type": "code",
   "execution_count": 459,
   "metadata": {},
   "outputs": [],
   "source": [
    "df.at[92, \"winner_chrono\"] = \"89hr 39min 30sec\"\n",
    "df.at[92, \"winner_timedelta\"] = pd.to_timedelta(\"89hr 39min 30sec\")"
   ]
  },
  {
   "cell_type": "code",
   "execution_count": 460,
   "metadata": {},
   "outputs": [],
   "source": [
    "df.at[96, \"winner_chrono\"] = \"91hr 58min 48sec\"\n",
    "df.at[96, \"winner_timedelta\"] = pd.to_timedelta(\"91hr 58min 48sec\")"
   ]
  },
  {
   "cell_type": "code",
   "execution_count": 461,
   "metadata": {},
   "outputs": [
    {
     "data": {
      "text/html": [
       "<div>\n",
       "<style scoped>\n",
       "    .dataframe tbody tr th:only-of-type {\n",
       "        vertical-align: middle;\n",
       "    }\n",
       "\n",
       "    .dataframe tbody tr th {\n",
       "        vertical-align: top;\n",
       "    }\n",
       "\n",
       "    .dataframe thead th {\n",
       "        text-align: right;\n",
       "    }\n",
       "</style>\n",
       "<table border=\"1\" class=\"dataframe\">\n",
       "  <thead>\n",
       "    <tr style=\"text-align: right;\">\n",
       "      <th></th>\n",
       "      <th>year</th>\n",
       "      <th>winner</th>\n",
       "      <th>second</th>\n",
       "      <th>third</th>\n",
       "      <th>winner_origin</th>\n",
       "      <th>winning_team</th>\n",
       "      <th>age</th>\n",
       "      <th>winner_chrono</th>\n",
       "      <th>winner_timedelta</th>\n",
       "    </tr>\n",
       "  </thead>\n",
       "  <tbody>\n",
       "    <tr>\n",
       "      <th>2</th>\n",
       "      <td>1905</td>\n",
       "      <td>Trousselier, Louis, 2435 points</td>\n",
       "      <td>HippolyteAucouturier61 pts.</td>\n",
       "      <td>Jean-BaptisteDortignacq64 pts.</td>\n",
       "      <td>France</td>\n",
       "      <td>Peugeot</td>\n",
       "      <td>24</td>\n",
       "      <td>NaN</td>\n",
       "      <td>NaT</td>\n",
       "    </tr>\n",
       "    <tr>\n",
       "      <th>3</th>\n",
       "      <td>1906</td>\n",
       "      <td>Pottier, René, 2731 points</td>\n",
       "      <td>Georges Passerieu39 pts</td>\n",
       "      <td>LouisTrousselier59pts</td>\n",
       "      <td>France</td>\n",
       "      <td>Peugeot</td>\n",
       "      <td>27</td>\n",
       "      <td>NaN</td>\n",
       "      <td>NaT</td>\n",
       "    </tr>\n",
       "    <tr>\n",
       "      <th>4</th>\n",
       "      <td>1907</td>\n",
       "      <td>Petit-Breton, Lucien, 2447 points</td>\n",
       "      <td>Gustave Garrigou66 pts</td>\n",
       "      <td>Émile Georget74 pts</td>\n",
       "      <td>France</td>\n",
       "      <td>Peugeot</td>\n",
       "      <td>24</td>\n",
       "      <td>NaN</td>\n",
       "      <td>NaT</td>\n",
       "    </tr>\n",
       "    <tr>\n",
       "      <th>5</th>\n",
       "      <td>1908</td>\n",
       "      <td>Petit-Breton, Lucien, 2536 points</td>\n",
       "      <td>François Faber68 pts</td>\n",
       "      <td>Georges Passerieu75 pts</td>\n",
       "      <td>France</td>\n",
       "      <td>Peugeot</td>\n",
       "      <td>25</td>\n",
       "      <td>NaN</td>\n",
       "      <td>NaT</td>\n",
       "    </tr>\n",
       "    <tr>\n",
       "      <th>6</th>\n",
       "      <td>1909</td>\n",
       "      <td>Faber, François, 2237 points</td>\n",
       "      <td>Gustave Garrigou57 pts</td>\n",
       "      <td>Jean Alavoine66 pts</td>\n",
       "      <td>Luxembourg</td>\n",
       "      <td>Alcyon</td>\n",
       "      <td>22</td>\n",
       "      <td>NaN</td>\n",
       "      <td>NaT</td>\n",
       "    </tr>\n",
       "    <tr>\n",
       "      <th>7</th>\n",
       "      <td>1910</td>\n",
       "      <td>Lapize, Octave, 2263 points</td>\n",
       "      <td>François Faber67 pts</td>\n",
       "      <td>GustaveGarrigou86 pts</td>\n",
       "      <td>France</td>\n",
       "      <td>Alcyon</td>\n",
       "      <td>22</td>\n",
       "      <td>NaN</td>\n",
       "      <td>NaT</td>\n",
       "    </tr>\n",
       "    <tr>\n",
       "      <th>8</th>\n",
       "      <td>1911</td>\n",
       "      <td>Garrigou, Gustave, 2943 points</td>\n",
       "      <td>Paul Duboc61 pts</td>\n",
       "      <td>Émile Georget84 pts</td>\n",
       "      <td>France</td>\n",
       "      <td>Alcyon</td>\n",
       "      <td>29</td>\n",
       "      <td>NaN</td>\n",
       "      <td>NaT</td>\n",
       "    </tr>\n",
       "    <tr>\n",
       "      <th>9</th>\n",
       "      <td>1912</td>\n",
       "      <td>Defraye, Odile, 2449 points</td>\n",
       "      <td>Eugène Christophe108 pts</td>\n",
       "      <td>GustaveGarrigou140 pts</td>\n",
       "      <td>Belgium</td>\n",
       "      <td>Alcyon</td>\n",
       "      <td>24</td>\n",
       "      <td>NaN</td>\n",
       "      <td>NaT</td>\n",
       "    </tr>\n",
       "  </tbody>\n",
       "</table>\n",
       "</div>"
      ],
      "text/plain": [
       "   year                             winner                       second  \\\n",
       "2  1905    Trousselier, Louis, 2435 points  HippolyteAucouturier61 pts.   \n",
       "3  1906         Pottier, René, 2731 points      Georges Passerieu39 pts   \n",
       "4  1907  Petit-Breton, Lucien, 2447 points       Gustave Garrigou66 pts   \n",
       "5  1908  Petit-Breton, Lucien, 2536 points         François Faber68 pts   \n",
       "6  1909       Faber, François, 2237 points       Gustave Garrigou57 pts   \n",
       "7  1910        Lapize, Octave, 2263 points         François Faber67 pts   \n",
       "8  1911     Garrigou, Gustave, 2943 points             Paul Duboc61 pts   \n",
       "9  1912        Defraye, Odile, 2449 points     Eugène Christophe108 pts   \n",
       "\n",
       "                            third winner_origin winning_team age  \\\n",
       "2  Jean-BaptisteDortignacq64 pts.        France      Peugeot  24   \n",
       "3           LouisTrousselier59pts        France      Peugeot  27   \n",
       "4             Émile Georget74 pts        France      Peugeot  24   \n",
       "5         Georges Passerieu75 pts        France      Peugeot  25   \n",
       "6             Jean Alavoine66 pts    Luxembourg       Alcyon  22   \n",
       "7           GustaveGarrigou86 pts        France       Alcyon  22   \n",
       "8             Émile Georget84 pts        France       Alcyon  29   \n",
       "9          GustaveGarrigou140 pts       Belgium       Alcyon  24   \n",
       "\n",
       "  winner_chrono winner_timedelta  \n",
       "2           NaN              NaT  \n",
       "3           NaN              NaT  \n",
       "4           NaN              NaT  \n",
       "5           NaN              NaT  \n",
       "6           NaN              NaT  \n",
       "7           NaN              NaT  \n",
       "8           NaN              NaT  \n",
       "9           NaN              NaT  "
      ]
     },
     "execution_count": 461,
     "metadata": {},
     "output_type": "execute_result"
    }
   ],
   "source": [
    "df[df[\"winner_chrono\"].isnull()]"
   ]
  },
  {
   "cell_type": "code",
   "execution_count": 462,
   "metadata": {},
   "outputs": [
    {
     "data": {
      "text/plain": [
       "year                                            1990\n",
       "winner              LeMond, Greg, 2990hr 43min 20sec\n",
       "second                  Claudio Chiappucci2min 16sec\n",
       "third                        Erik Breukink2min 29sec\n",
       "winner_origin                                 U.S.A.\n",
       "winning_team                                       Z\n",
       "age                                               29\n",
       "winner_chrono                       90hr 43min 20sec\n",
       "winner_timedelta                     3 days 18:43:20\n",
       "Name: 76, dtype: object"
      ]
     },
     "execution_count": 462,
     "metadata": {},
     "output_type": "execute_result"
    }
   ],
   "source": [
    "df.iloc[76]"
   ]
  },
  {
   "cell_type": "code",
   "execution_count": 463,
   "metadata": {},
   "outputs": [
    {
     "data": {
      "text/plain": [
       "'      87hr 20min 5sec'"
      ]
     },
     "execution_count": 463,
     "metadata": {},
     "output_type": "execute_result"
    }
   ],
   "source": [
    "df.at[106, \"winner_chrono\"]"
   ]
  },
  {
   "cell_type": "code",
   "execution_count": 464,
   "metadata": {},
   "outputs": [],
   "source": [
    "df.at[14, \"winner_chrono\"] = \"221hr 50min 26sec\"\n",
    "df.at[14, \"winner_timedelta\"] = pd.to_timedelta(\"221hr 50min 26sec\")"
   ]
  },
  {
   "cell_type": "code",
   "execution_count": 465,
   "metadata": {},
   "outputs": [],
   "source": [
    "df.at[31, \"winner_chrono\"] = \"148hr 29min 12sec\"\n",
    "df.at[31, \"winner_timedelta\"] = pd.to_timedelta(\"148hr 29min 12sec\")"
   ]
  },
  {
   "cell_type": "code",
   "execution_count": 466,
   "metadata": {},
   "outputs": [],
   "source": [
    "df.at[54, \"winner_chrono\"] = \"133hr 49min 42sec\"\n",
    "df.at[54, \"winner_timedelta\"] = pd.to_timedelta(\"133hr 49min 42sec\")"
   ]
  },
  {
   "cell_type": "code",
   "execution_count": 467,
   "metadata": {},
   "outputs": [],
   "source": [
    "df.at[64, \"winner_chrono\"] = \"112hr 3min 2sec\"\n",
    "df.at[64, \"winner_timedelta\"] = pd.to_timedelta(\"112hr 3min 2sec\")"
   ]
  },
  {
   "cell_type": "code",
   "execution_count": 468,
   "metadata": {},
   "outputs": [],
   "source": [
    "df.at[74, \"winner_chrono\"] = \"84hr 27min 58sec\"\n",
    "df.at[74, \"winner_timedelta\"] = pd.to_timedelta(\"84hr 27min 58sec\")"
   ]
  },
  {
   "cell_type": "code",
   "execution_count": 469,
   "metadata": {},
   "outputs": [],
   "source": [
    "df.at[80, \"winner_chrono\"] = \"103hr 38min 38sec\"\n",
    "df.at[80, \"winner_timedelta\"] = pd.to_timedelta(\"103hr 38min 38sec\")"
   ]
  },
  {
   "cell_type": "code",
   "execution_count": 484,
   "metadata": {},
   "outputs": [],
   "source": [
    "for i in range(97, 107):\n",
    "    df.at[i, \"winner_chrono\"] = df.at[i, \"winner_chrono\"].replace(\"\\t\", \"\")"
   ]
  },
  {
   "cell_type": "code",
   "execution_count": 485,
   "metadata": {},
   "outputs": [
    {
     "data": {
      "text/plain": [
       "'      83hr 56min 40sec'"
      ]
     },
     "execution_count": 485,
     "metadata": {},
     "output_type": "execute_result"
    }
   ],
   "source": [
    "df.at[99, \"winner_chrono\"]"
   ]
  },
  {
   "cell_type": "markdown",
   "metadata": {},
   "source": [
    "#### Clean up winners name"
   ]
  },
  {
   "cell_type": "markdown",
   "metadata": {},
   "source": [
    "The winner's column is still kind of messy. Let's try to clean it up further more now that we have extracted all the values that we cared about."
   ]
  },
  {
   "cell_type": "code",
   "execution_count": 487,
   "metadata": {},
   "outputs": [
    {
     "data": {
      "text/plain": [
       "0                Garin, Maurice, 3293hr 33min 14sec\n",
       "1                  Cornet, Henri, 2096hr 5min 55sec\n",
       "2                   Trousselier, Louis, 2435 points\n",
       "3                        Pottier, René, 2731 points\n",
       "4                 Petit-Breton, Lucien, 2447 points\n",
       "                           ...                     \n",
       "102     Christopher Froome, 31      89hr 4min 48sec\n",
       "103    Christopher Froome, 32      86hr 20min 55sec\n",
       "104        Geraint Thomas, 32      83hr 17min 13sec\n",
       "105            Egan Bernal, 22      82hr 57min 0sec\n",
       "106          Tadej Pogacar, 20      87hr 20min 5sec\n",
       "Name: winner, Length: 107, dtype: object"
      ]
     },
     "execution_count": 487,
     "metadata": {},
     "output_type": "execute_result"
    }
   ],
   "source": []
  }
 ],
 "metadata": {
  "kernelspec": {
   "display_name": "Python 3",
   "language": "python",
   "name": "python3"
  },
  "language_info": {
   "codemirror_mode": {
    "name": "ipython",
    "version": 3
   },
   "file_extension": ".py",
   "mimetype": "text/x-python",
   "name": "python",
   "nbconvert_exporter": "python",
   "pygments_lexer": "ipython3",
   "version": "3.7.6"
  }
 },
 "nbformat": 4,
 "nbformat_minor": 4
}
